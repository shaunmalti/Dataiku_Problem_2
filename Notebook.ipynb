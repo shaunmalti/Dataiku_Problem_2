{
 "cells": [
  {
   "cell_type": "markdown",
   "metadata": {},
   "source": [
    "# US Census Data Classification Problem\n",
    "\n",
    "Creating a model to predict if an instance (person) makes more than 50k from census results."
   ]
  },
  {
   "cell_type": "code",
   "execution_count": 18,
   "metadata": {},
   "outputs": [],
   "source": [
    "import numpy as np\n",
    "import pandas as pd\n",
    "\n",
    "import lightgbm as lgb\n",
    "import shap\n",
    "import matplotlib.pyplot as plt\n",
    "from sklearn.model_selection import train_test_split\n",
    "import seaborn as sns\n",
    "pd.set_option('display.max_columns', 50)\n",
    "pd.set_option('display.max_rows', 50)"
   ]
  },
  {
   "cell_type": "markdown",
   "metadata": {},
   "source": [
    "importing packages and pasting some useful methods "
   ]
  },
  {
   "cell_type": "code",
   "execution_count": 19,
   "metadata": {},
   "outputs": [],
   "source": [
    "def importData():\n",
    "    train = pd.read_csv('./us_census_full/census_income_learn.csv')\n",
    "    test = pd.read_csv('./us_census_full/census_income_test.csv')\n",
    "    return train, test\n",
    "\n",
    "def explore(data):\n",
    "    summaryDf = pd.DataFrame(data.dtypes, columns=['dtypes'])\n",
    "    summaryDf = summaryDf.reset_index()\n",
    "    summaryDf['Name'] = summaryDf['index']\n",
    "    summaryDf['Missing'] = data.isnull().sum().values\n",
    "    summaryDf['Total'] = data.count().values\n",
    "    summaryDf['MissPerc'] = (summaryDf['Missing']/summaryDf['Total'])*100\n",
    "    summaryDf['NumUnique'] = data.nunique().values\n",
    "    summaryDf['UniqueVals'] = [data[col].unique() for col in data.columns]\n",
    "    print(summaryDf.head(50))\n",
    "\n",
    "\n",
    "def reduce_mem_usage(df):\n",
    "    \"\"\" iterate through all the columns of a dataframe and modify the data type\n",
    "        to reduce memory usage.\n",
    "    \"\"\"\n",
    "    start_mem = df.memory_usage().sum() / 1024 ** 2\n",
    "    print('Memory usage of dataframe is {:.2f} MB'.format(start_mem))\n",
    "\n",
    "    for col in df.columns:\n",
    "        col_type = df[col].dtype\n",
    "\n",
    "        if col_type != object:\n",
    "            c_min = df[col].min()\n",
    "            c_max = df[col].max()\n",
    "            if str(col_type)[:3] == 'int':\n",
    "                if c_min > np.iinfo(np.int8).min and c_max < np.iinfo(np.int8).max:\n",
    "                    df[col] = df[col].astype(np.int8)\n",
    "                elif c_min > np.iinfo(np.int16).min and c_max < np.iinfo(np.int16).max:\n",
    "                    df[col] = df[col].astype(np.int16)\n",
    "                elif c_min > np.iinfo(np.int32).min and c_max < np.iinfo(np.int32).max:\n",
    "                    df[col] = df[col].astype(np.int32)\n",
    "                elif c_min > np.iinfo(np.int64).min and c_max < np.iinfo(np.int64).max:\n",
    "                    df[col] = df[col].astype(np.int64)\n",
    "            else:\n",
    "                if c_min > np.finfo(np.float16).min and c_max < np.finfo(np.float16).max:\n",
    "                    df[col] = df[col].astype(np.float16)\n",
    "                elif c_min > np.finfo(np.float32).min and c_max < np.finfo(np.float32).max:\n",
    "                    df[col] = df[col].astype(np.float32)\n",
    "                else:\n",
    "                    df[col] = df[col].astype(np.float64)\n",
    "        else:\n",
    "            df[col] = df[col].astype('category')\n",
    "\n",
    "    end_mem = df.memory_usage().sum() / 1024 ** 2\n",
    "    print('Memory usage after optimization is: {:.2f} MB'.format(end_mem))\n",
    "    print('Decreased by {:.1f}%'.format(100 * (start_mem - end_mem) / start_mem))\n",
    "\n",
    "    return df\n",
    "\n",
    "\n",
    "def import_data(name):\n",
    "    \"\"\"create a dataframe and optimize its memory usage\"\"\"\n",
    "    df = pd.read_csv('us_census_full/' + name + '.csv', parse_dates=True, keep_date_col=True)\n",
    "#     df = reduce_mem_usage(df)\n",
    "    return df\n",
    "\n",
    "def shapRanking(x_data, y_data):\n",
    "    train_x, valid_x, train_y, valid_y = train_test_split(\n",
    "        x_data, y_data, test_size=0.33, random_state=42)\n",
    "\n",
    "    train_data = lgb.Dataset(train_x, label=train_y)\n",
    "    valid_data = lgb.Dataset(valid_x, label=valid_y)\n",
    "\n",
    "    # LGB parameters:\n",
    "    params = {'learning_rate': 0.05,\n",
    "              'boosting': 'gbdt',\n",
    "              'objective': 'binary',\n",
    "              'num_leaves': 2000,\n",
    "              'min_data_in_leaf': 200,\n",
    "              'max_bin': 200,\n",
    "              'max_depth': 16,\n",
    "              'seed': 2018,\n",
    "              'nthread': 10, }\n",
    "\n",
    "    # LGB training:\n",
    "    lgb_model = lgb.train(params, train_data,\n",
    "                          num_boost_round=2000,\n",
    "                          valid_sets=(valid_data,),\n",
    "                          verbose_eval=10,\n",
    "                          early_stopping_rounds=20)\n",
    "\n",
    "    explainer = shap.TreeExplainer(lgb_model).shap_values(valid_x)\n",
    "    shap.summary_plot(explainer[1], valid_x)\n",
    "    plt.show()\n",
    "\n",
    "    shap.dependence_plot('Wage', explainer[1], valid_x)\n",
    "    plt.show()"
   ]
  },
  {
   "cell_type": "markdown",
   "metadata": {},
   "source": [
    "importing data and concatenating training and test sets"
   ]
  },
  {
   "cell_type": "code",
   "execution_count": 20,
   "metadata": {
    "scrolled": true
   },
   "outputs": [],
   "source": [
    "train = import_data('census_income_learn')\n",
    "test = import_data('census_income_test')\n",
    "\n",
    "# train_target = train['Target']\n",
    "# train.drop(['Target'], axis=1, inplace=True)\n",
    "\n",
    "# test_target = test['Target']\n",
    "# test.drop(['Target'], axis=1, inplace=True)\n",
    "\n",
    "train_len = train.shape[0]\n",
    "test_len = test.shape[0]\n",
    "df = pd.concat([train, test])"
   ]
  },
  {
   "cell_type": "markdown",
   "metadata": {},
   "source": [
    "Defining separate industries based on age for those instances that have the wrong industry code (0 -> not in universe or children). Split those instances based on ages:\n",
    "* A separate industry code for children\n",
    "* One for pensioners\n",
    "* One for those that are of working age but don't have an industry"
   ]
  },
  {
   "cell_type": "code",
   "execution_count": 21,
   "metadata": {},
   "outputs": [],
   "source": [
    "#     df = df.replace([' Not in universe'], [None])\n",
    "#     df = df.replace([' ?'], [None])\n",
    "# not in universe or children in column IndustryCodeString - make the distinction, if age is <=16 therefore children\n",
    "# else not in universe\n",
    "df.drop(['IndustryCodeString', 'OccupationCodeString'], axis=1, inplace=True)\n",
    "# children group\n",
    "df.loc[(df['IndustryCode'] == 0) & (df['Age'] <= 18), 'IndustryCode'] = 52\n",
    "# people not in any industry group\n",
    "df.loc[(df['IndustryCode'] == 0) & (df['Age'] > 18) & (df['Age'] < 65), 'IndustryCode'] = 53\n",
    "# old people group\n",
    "df.loc[(df['IndustryCode'] == 0) & (df['Age'] >= 65), 'IndustryCode'] = 54"
   ]
  },
  {
   "cell_type": "markdown",
   "metadata": {},
   "source": [
    "Latino is classed as being from (chicano is someone from mexico) cuba, mexico, puerto rico, \n",
    "south or central america, or other spanish culture or origin regardless of race. Therefore they are grouped here"
   ]
  },
  {
   "cell_type": "code",
   "execution_count": 22,
   "metadata": {},
   "outputs": [],
   "source": [
    "df.loc[\n",
    "    df['HispOrig'].isin([' Chicano', ' Cuban', ' Other Spanish', ' Puerto Rican', ' Central or South American', ' Mexican (Mexicano)', ' Other Spanish']),\n",
    "    'HispOrig'\n",
    "] = ' Latino'\n",
    "\n",
    "df.loc[df['HispOrig']==' Do not know', 'HispOrig'] = ' NA'"
   ]
  },
  {
   "cell_type": "markdown",
   "metadata": {},
   "source": [
    "Education field here is the highest level of education that a person has. They are grouped based on if high school was completed or not etc."
   ]
  },
  {
   "cell_type": "code",
   "execution_count": 23,
   "metadata": {},
   "outputs": [],
   "source": [
    "df.loc[\n",
    "    (df['Education'].isin(\n",
    "    [' 7th and 8th grade', ' 10th grade', ' 11th grade', ' 9th grade', ' 12th grade no diploma']\n",
    ")) & (df['Age'] > 18), 'Education'\n",
    "] = ' High School Dropout'\n",
    "\n",
    "df.loc[\n",
    "    (df['Education'].isin(\n",
    "    [' 7th and 8th grade', ' 10th grade', ' 11th grade', ' 9th grade', ' 12th grade no diploma']\n",
    ")) & (df['Age'] <= 18), 'Education'\n",
    "] = ' High School'"
   ]
  },
  {
   "cell_type": "code",
   "execution_count": 24,
   "metadata": {},
   "outputs": [],
   "source": [
    "df.loc[(df['Education'].isin([' 5th or 6th grade', ' 1st 2nd 3rd or 4th grade'])) & (df['Age'] >= 12), 'Education'] = ' Elementary School Dropout'\n",
    "df.loc[(df['Education'].isin([' 5th or 6th grade', ' 1st 2nd 3rd or 4th grade'])) & (df['Age'] < 12), 'Education'] = ' Elementary School'"
   ]
  },
  {
   "cell_type": "code",
   "execution_count": 25,
   "metadata": {},
   "outputs": [],
   "source": [
    "df.loc[(df['Education'] == ' Less than 1st grade') & (df['Age'] > 7), 'Education'] = ' No Education'"
   ]
  },
  {
   "cell_type": "markdown",
   "metadata": {},
   "source": [
    "Fixing spelling mistake"
   ]
  },
  {
   "cell_type": "code",
   "execution_count": 26,
   "metadata": {},
   "outputs": [],
   "source": [
    "df.loc[df['HouseholdSummaryStat']==' Child under 18 ever married', 'HouseholdSummaryStat'] = ' Child under 18 never married'"
   ]
  },
  {
   "cell_type": "markdown",
   "metadata": {},
   "source": [
    "This feature within metadata is defined as `live in house 1 year ago`, which is a Yes/No question. Therefore those instances having the value `Not in universe under 1 year old` are set to No."
   ]
  },
  {
   "cell_type": "code",
   "execution_count": 27,
   "metadata": {},
   "outputs": [],
   "source": [
    "df.loc[df['HouseLive1Yr']==' Not in universe under 1 year old', 'HouseLive1Yr'] = ' No'"
   ]
  },
  {
   "cell_type": "markdown",
   "metadata": {},
   "source": [
    "When looking at LabourUnion feature across the target variable (for those that are not `Not in universe`), the answers seem to follow a different distribution."
   ]
  },
  {
   "cell_type": "code",
   "execution_count": 28,
   "metadata": {},
   "outputs": [
    {
     "data": {
      "image/png": "[encoded data removed]",
      "text/plain": [
       "<Figure size 691.2x216 with 2 Axes>"
      ]
     },
     "metadata": {
      "needs_background": "light"
     },
     "output_type": "display_data"
    }
   ],
   "source": [
    "def weighted_hist(x, weights, **kwargs):\n",
    "    plt.hist(x, weights=weights, **kwargs)\n",
    "    plt.xticks(rotation=90)\n",
    "\n",
    "grid = sns.FacetGrid(df, col='Target', aspect=1.6)\n",
    "grid.map(weighted_hist, 'LabourUnion', 'InstanceWeight')\n",
    "plt.show()"
   ]
  },
  {
   "cell_type": "code",
   "execution_count": 29,
   "metadata": {},
   "outputs": [
    {
     "data": {
      "text/plain": [
       " Not in universe    255499\n",
       " No                  21356\n",
       " Yes                  3862\n",
       "Name: LabourUnion, dtype: int64"
      ]
     },
     "execution_count": 29,
     "metadata": {},
     "output_type": "execute_result"
    }
   ],
   "source": [
    "df.loc[(df['Target']==' - 50000.'), 'LabourUnion'].value_counts()"
   ]
  },
  {
   "cell_type": "code",
   "execution_count": 30,
   "metadata": {},
   "outputs": [
    {
     "data": {
      "text/plain": [
       " Not in universe    15243\n",
       " No                  2712\n",
       " Yes                  613\n",
       "Name: LabourUnion, dtype: int64"
      ]
     },
     "execution_count": 30,
     "metadata": {},
     "output_type": "execute_result"
    }
   ],
   "source": [
    "df.loc[(df['Target']==' 50000+.'), 'LabourUnion'].value_counts()"
   ]
  },
  {
   "cell_type": "markdown",
   "metadata": {},
   "source": [
    "Therefore, for those instances of working age (16 <= x <= 65) apply the same ratio based on target variables"
   ]
  },
  {
   "cell_type": "code",
   "execution_count": 31,
   "metadata": {},
   "outputs": [],
   "source": [
    "df.loc[(df['LabourUnion']== ' Not in universe') & (df['Age'] < 16) & (df['Age'] > 65), 'LabourUnion'] = ' No'"
   ]
  },
  {
   "cell_type": "code",
   "execution_count": 32,
   "metadata": {},
   "outputs": [],
   "source": [
    "lenNo = df.loc[(df['Target']==' - 50000.') & (df['LabourUnion']==' No')].shape[0]\n",
    "lenTot = df.loc[(df['Target']==' - 50000.') & (df['LabourUnion']!=' Not in universe')].shape[0]\n",
    "percNo = lenNo/lenTot"
   ]
  },
  {
   "cell_type": "markdown",
   "metadata": {},
   "source": [
    "Take those not in universe, randomly sample the percentage that should be No according to class ratio, and then apply Yes to the rest"
   ]
  },
  {
   "cell_type": "code",
   "execution_count": 33,
   "metadata": {},
   "outputs": [],
   "source": [
    "a = df.loc[(df['Target']==' - 50000.') & (df['LabourUnion']==' Not in universe'), 'LabourUnion']"
   ]
  },
  {
   "cell_type": "code",
   "execution_count": 34,
   "metadata": {},
   "outputs": [],
   "source": [
    "df.loc[a.sample(frac=percNo).index, 'LabourUnion'] = ' No'"
   ]
  },
  {
   "cell_type": "code",
   "execution_count": 35,
   "metadata": {},
   "outputs": [],
   "source": [
    "df.loc[(df['Target']==' - 50000.') & (df['LabourUnion']==' Not in universe'), 'LabourUnion'] = ' Yes'"
   ]
  },
  {
   "cell_type": "markdown",
   "metadata": {},
   "source": [
    "Doing it now for positive class"
   ]
  },
  {
   "cell_type": "code",
   "execution_count": 36,
   "metadata": {},
   "outputs": [
    {
     "data": {
      "text/plain": [
       "0.9692597831211692"
      ]
     },
     "execution_count": 36,
     "metadata": {},
     "output_type": "execute_result"
    }
   ],
   "source": [
    "lenNopos = df.loc[(df['Target']==' 50000+.') & (df['LabourUnion']==' No')].shape[0]\n",
    "lenTotpos = df.loc[(df['Target']==' 50000+.') & (df['LabourUnion']!=' Not in universe')].shape[0]\n",
    "percNopos = lenNopos/lenTotpos\n",
    "percNopos"
   ]
  },
  {
   "cell_type": "code",
   "execution_count": 37,
   "metadata": {},
   "outputs": [],
   "source": [
    "b = df.loc[(df['Target']==' 50000+.') & (df['LabourUnion']==' Not in universe'), 'LabourUnion']\n",
    "df.loc[b.sample(frac=percNopos).index, 'LabourUnion'] = ' No'\n",
    "df.loc[(df['Target']==' 50000+.') & (df['LabourUnion']==' Not in universe'), 'LabourUnion'] = ' Yes'"
   ]
  },
  {
   "cell_type": "markdown",
   "metadata": {},
   "source": [
    "Checking EducationLastWk, shouldn't matter as we have other education information. Due to the dataset containing a majority working portion and their respective educations being represented by the Education feature, this column was dropped."
   ]
  },
  {
   "cell_type": "code",
   "execution_count": 38,
   "metadata": {},
   "outputs": [
    {
     "data": {
      "image/png": "[encoded data removed]",
      "text/plain": [
       "<Figure size 691.2x216 with 2 Axes>"
      ]
     },
     "metadata": {
      "needs_background": "light"
     },
     "output_type": "display_data"
    }
   ],
   "source": [
    "def weighted_hist(x, weights, **kwargs):\n",
    "    plt.hist(x, weights=weights, **kwargs)\n",
    "    plt.xticks(rotation=90)\n",
    "\n",
    "grid = sns.FacetGrid(df, col='Target', aspect=1.6)\n",
    "grid.map(weighted_hist, 'EducationLastWk', 'InstanceWeight')\n",
    "plt.show()"
   ]
  },
  {
   "cell_type": "code",
   "execution_count": 39,
   "metadata": {},
   "outputs": [],
   "source": [
    "df.drop('EducationLastWk', axis=1, inplace=True)"
   ]
  },
  {
   "cell_type": "code",
   "execution_count": 40,
   "metadata": {},
   "outputs": [
    {
     "name": "stderr",
     "output_type": "stream",
     "text": [
      "Tight layout not applied. The bottom and top margins cannot be made large enough to accommodate all axes decorations. \n"
     ]
    },
    {
     "data": {
      "image/png": "[encoded data removed]",
      "text/plain": [
       "<Figure size 691.2x216 with 2 Axes>"
      ]
     },
     "metadata": {
      "needs_background": "light"
     },
     "output_type": "display_data"
    }
   ],
   "source": [
    "grid = sns.FacetGrid(df, col='Target', aspect=1.6)\n",
    "grid.map(weighted_hist, 'WorkerClas', 'InstanceWeight')\n",
    "plt.show()"
   ]
  },
  {
   "cell_type": "markdown",
   "metadata": {},
   "source": [
    "Looking at the WorkerClas feature, the majority are `Not in universe`, with this most probably being the unemployed portion of the population."
   ]
  },
  {
   "cell_type": "code",
   "execution_count": 41,
   "metadata": {},
   "outputs": [
    {
     "data": {
      "text/plain": [
       " Not in universe                   150324\n",
       " Private                           108099\n",
       " Self-employed-not incorporated     12725\n",
       " Local government                   11617\n",
       " State government                    6394\n",
       " Self-employed-incorporated          4913\n",
       " Federal government                  4330\n",
       " Never worked                         643\n",
       " Without pay                          240\n",
       "Name: WorkerClas, dtype: int64"
      ]
     },
     "execution_count": 41,
     "metadata": {},
     "output_type": "execute_result"
    }
   ],
   "source": [
    "df['WorkerClas'].value_counts()"
   ]
  },
  {
   "cell_type": "markdown",
   "metadata": {},
   "source": [
    "Plotting the Age for those that are `Not in universe` for WorkerClas"
   ]
  },
  {
   "cell_type": "code",
   "execution_count": 42,
   "metadata": {},
   "outputs": [
    {
     "data": {
      "image/png": "[encoded data removed]",
      "text/plain": [
       "<Figure size 432x288 with 1 Axes>"
      ]
     },
     "metadata": {
      "needs_background": "light"
     },
     "output_type": "display_data"
    }
   ],
   "source": [
    "from scipy import stats\n",
    "niuWCLen = df.loc[(df['WorkerClas']==' Not in universe')].shape[0]\n",
    "avgAgeWCNIU = df.loc[df['WorkerClas']==' Not in universe', 'Age']\n",
    "\n",
    "sns.distplot(avgAgeWCNIU)\n",
    "plt.show()\n",
    "# we can say that the not in universe for worker class are unemployed"
   ]
  },
  {
   "cell_type": "code",
   "execution_count": 43,
   "metadata": {},
   "outputs": [
    {
     "data": {
      "text/plain": [
       " Not in universe                   79624\n",
       " Private                            3274\n",
       " Never worked                        352\n",
       " Self-employed-not incorporated      202\n",
       " Local government                    131\n",
       " Self-employed-incorporated           54\n",
       " State government                     32\n",
       " Without pay                          28\n",
       " Federal government                   14\n",
       "Name: WorkerClas, dtype: int64"
      ]
     },
     "execution_count": 43,
     "metadata": {},
     "output_type": "execute_result"
    }
   ],
   "source": [
    "# see age with respect to worker class\n",
    "df.loc[df['Age'] < 18].WorkerClas.value_counts()"
   ]
  },
  {
   "cell_type": "code",
   "execution_count": 44,
   "metadata": {},
   "outputs": [],
   "source": [
    "df.loc[(df['WorkerClas']==' Not in universe'), 'WorkerClas'] = ' Unemployed'"
   ]
  },
  {
   "cell_type": "code",
   "execution_count": 45,
   "metadata": {},
   "outputs": [
    {
     "data": {
      "text/plain": [
       " Unemployed                        150324\n",
       " Private                           108099\n",
       " Self-employed-not incorporated     12725\n",
       " Local government                   11617\n",
       " State government                    6394\n",
       " Self-employed-incorporated          4913\n",
       " Federal government                  4330\n",
       " Never worked                         643\n",
       " Without pay                          240\n",
       "Name: WorkerClas, dtype: int64"
      ]
     },
     "execution_count": 45,
     "metadata": {},
     "output_type": "execute_result"
    }
   ],
   "source": [
    "df['WorkerClas'].value_counts()"
   ]
  },
  {
   "cell_type": "markdown",
   "metadata": {},
   "source": [
    "Now looking at the UnempReas feature. For those instances that are `Not in universe`, this probably implies that they are employed. It was plotted against WeeksWorked to get an idea."
   ]
  },
  {
   "cell_type": "code",
   "execution_count": 46,
   "metadata": {},
   "outputs": [
    {
     "data": {
      "image/png": "[encoded data removed]",
      "text/plain": [
       "<Figure size 432x288 with 1 Axes>"
      ]
     },
     "metadata": {
      "needs_background": "light"
     },
     "output_type": "display_data"
    }
   ],
   "source": [
    "sns.scatterplot(y='UnempReas', x='WeeksWorked', data=df)\n",
    "plt.show()"
   ]
  },
  {
   "cell_type": "code",
   "execution_count": 47,
   "metadata": {},
   "outputs": [],
   "source": [
    "# assume that for unempreason not in universe means that they are employed\n",
    "df.loc[df['UnempReas']==' Not in universe', 'UnempReas'] = ' Employed'"
   ]
  },
  {
   "cell_type": "code",
   "execution_count": 48,
   "metadata": {},
   "outputs": [
    {
     "data": {
      "text/plain": [
       " Employed                 290085\n",
       " Other job loser            3146\n",
       " Re-entrant                 3043\n",
       " Job loser - on layoff      1484\n",
       " Job leaver                  884\n",
       " New entrant                 643\n",
       "Name: UnempReas, dtype: int64"
      ]
     },
     "execution_count": 48,
     "metadata": {},
     "output_type": "execute_result"
    }
   ],
   "source": [
    "df['UnempReas'].value_counts()"
   ]
  },
  {
   "cell_type": "markdown",
   "metadata": {},
   "source": [
    "Previous region being `Not in universe`, most probably implies that person hasn't moved from another region."
   ]
  },
  {
   "cell_type": "code",
   "execution_count": 49,
   "metadata": {},
   "outputs": [
    {
     "data": {
      "text/plain": [
       " Not in universe    275818\n",
       " South                7314\n",
       " West                 6120\n",
       " Midwest              5273\n",
       " Northeast            4027\n",
       " Abroad                733\n",
       "Name: PrevReg, dtype: int64"
      ]
     },
     "execution_count": 49,
     "metadata": {},
     "output_type": "execute_result"
    }
   ],
   "source": [
    "df['PrevReg'].value_counts()"
   ]
  },
  {
   "cell_type": "code",
   "execution_count": 50,
   "metadata": {},
   "outputs": [],
   "source": [
    "df.loc[df['PrevReg']==' Not in universe', 'PrevReg'] = ' No movement'"
   ]
  },
  {
   "cell_type": "markdown",
   "metadata": {},
   "source": [
    "PrevReg could also be discarded since more information can be found in PrevState"
   ]
  },
  {
   "cell_type": "code",
   "execution_count": 51,
   "metadata": {},
   "outputs": [
    {
     "data": {
      "text/plain": [
       " Not in universe    275818\n",
       " California           2598\n",
       " Utah                 1597\n",
       " Florida              1299\n",
       " North Carolina       1210\n",
       "                     ...  \n",
       " Wisconsin             167\n",
       " South Carolina        144\n",
       " Delaware              121\n",
       " New Jersey            113\n",
       " Idaho                  45\n",
       "Name: PrevState, Length: 51, dtype: int64"
      ]
     },
     "execution_count": 51,
     "metadata": {},
     "output_type": "execute_result"
    }
   ],
   "source": [
    "df['PrevState'].value_counts()"
   ]
  },
  {
   "cell_type": "code",
   "execution_count": 52,
   "metadata": {},
   "outputs": [
    {
     "data": {
      "image/png": "[encoded data removed]",
      "text/plain": [
       "<Figure size 691.2x216 with 2 Axes>"
      ]
     },
     "metadata": {
      "needs_background": "light"
     },
     "output_type": "display_data"
    }
   ],
   "source": [
    "grid = sns.FacetGrid(df, col='Target', aspect=1.6)\n",
    "grid.map(weighted_hist, 'PrevState', 'InstanceWeight')\n",
    "plt.show()"
   ]
  },
  {
   "cell_type": "markdown",
   "metadata": {},
   "source": [
    "For PrevState, there are missing values represented by `?`, which states are they?"
   ]
  },
  {
   "cell_type": "code",
   "execution_count": 53,
   "metadata": {},
   "outputs": [
    {
     "data": {
      "text/plain": [
       "array([' Hawaii', ' Rhode Island', ' Washington'], dtype='<U15')"
      ]
     },
     "execution_count": 53,
     "metadata": {},
     "output_type": "execute_result"
    }
   ],
   "source": [
    "# what is that ? value\n",
    "allstates= np.array([\n",
    "    ' Alabama',\n",
    "    ' Alaska',\n",
    "    ' Arizona',\n",
    "    ' Arkansas',\n",
    "    ' California',\n",
    "    ' Colorado',\n",
    "    ' Connecticut',\n",
    "    ' Delaware',\n",
    "    ' Florida',\n",
    "    ' Georgia',\n",
    "    ' Hawaii',\n",
    "    ' Idaho',\n",
    "    ' Illinois',\n",
    "    ' Indiana',\n",
    "    ' Iowa',\n",
    "    ' Kansas',\n",
    "    ' Kentucky',\n",
    "    ' Louisiana',\n",
    "    ' Maine',\n",
    "    ' Maryland',\n",
    "    ' Massachusetts',\n",
    "    ' Michigan',\n",
    "    ' Minnesota',\n",
    "    ' Mississippi',\n",
    "    ' Missouri',\n",
    "    ' Montana',\n",
    "    ' Nebraska',\n",
    "    ' Nevada',\n",
    "    ' New Hampshire',\n",
    "    ' New Jersey',\n",
    "    ' New Mexico',\n",
    "    ' New York',\n",
    "    ' North Carolina',\n",
    "    ' North Dakota',\n",
    "    ' Ohio',\n",
    "    ' Oklahoma',\n",
    "    ' Oregon',\n",
    "    ' Pennsylvania',\n",
    "    ' Rhode Island',\n",
    "    ' South Carolina',\n",
    "    ' South Dakota',\n",
    "    ' Tennessee',\n",
    "    ' Texas',\n",
    "    ' Utah',\n",
    "    ' Vermont',\n",
    "    ' Virginia',\n",
    "    ' Washington',\n",
    "    ' West Virginia',\n",
    "    ' Wisconsin',\n",
    "    ' Wyoming',\n",
    "    ' Abroad'\n",
    "])\n",
    "uniquePrevState = df['PrevState'].unique()\n",
    "np.setdiff1d(allstates, uniquePrevState)"
   ]
  },
  {
   "cell_type": "code",
   "execution_count": 54,
   "metadata": {},
   "outputs": [
    {
     "data": {
      "text/plain": [
       "array([' Not in universe', ' Arkansas', ' Utah', ' Michigan',\n",
       "       ' Minnesota', ' Alaska', ' Kansas', ' Indiana', ' ?',\n",
       "       ' Massachusetts', ' New Mexico', ' Nevada', ' Tennessee',\n",
       "       ' Colorado', ' Abroad', ' Kentucky', ' California', ' Arizona',\n",
       "       ' North Carolina', ' Connecticut', ' Florida', ' Vermont',\n",
       "       ' Maryland', ' Oklahoma', ' Oregon', ' Ohio', ' South Carolina',\n",
       "       ' Texas', ' Montana', ' Wyoming', ' Georgia', ' Pennsylvania',\n",
       "       ' Iowa', ' New Hampshire', ' Missouri', ' Alabama',\n",
       "       ' North Dakota', ' New Jersey', ' Louisiana', ' West Virginia',\n",
       "       ' Delaware', ' Illinois', ' Maine', ' Wisconsin', ' New York',\n",
       "       ' Idaho', ' District of Columbia', ' South Dakota', ' Nebraska',\n",
       "       ' Virginia', ' Mississippi'], dtype=object)"
      ]
     },
     "execution_count": 54,
     "metadata": {},
     "output_type": "execute_result"
    }
   ],
   "source": [
    "df['PrevState'].unique()"
   ]
  },
  {
   "cell_type": "markdown",
   "metadata": {},
   "source": [
    "Adding not mentioned states by looking at previous region and checking states that are not in the `value_counts()`. (Hawaii not included)"
   ]
  },
  {
   "cell_type": "code",
   "execution_count": 55,
   "metadata": {},
   "outputs": [],
   "source": [
    "# see proportion of ? compared to overall length\n",
    "df.loc[df['PrevState']==' ?'].shape[0]/df.shape[0]\n",
    "# around 0.3%\n",
    "\n",
    "# US pop in 1995 was 266.6 million (1995)\n",
    "# washington population 1995 was 5.431 million \n",
    "# set ? to washington\n",
    "df.loc[df['PrevState']==' ?'].PrevReg.value_counts()\n",
    "# prevreg has northeast - rhode island and south - washington\n",
    "\n",
    "df.loc[(df['PrevState']==' ?') & (df['PrevReg']==' Northeast'), 'PrevState'] = ' Rhode Island'\n",
    "df.loc[(df['PrevState']==' ?') & (df['PrevReg']==' South'), 'PrevState'] = ' Washington'"
   ]
  },
  {
   "cell_type": "markdown",
   "metadata": {},
   "source": [
    "Over 42 million Americans\n",
    "moved in the 1-year period\n",
    "between March 1992 and\n",
    "March 1993. This amounted\n",
    "to 16.8 percent of the population 1 year old and over.\n",
    "\u0001 Most movers stay in the\n",
    "same county. In fact, about\n",
    "two-thirds of the movers\n",
    "between March 1992 and\n",
    "March 1993 (10.5 percent\n",
    "of the total population)\n",
    "made such a “local” move.\n",
    "\u0001 The “average American”\n",
    "makes 11.7 moves in a life\n",
    "\n",
    "From: https://www.census.gov/prod/1/pop/profile/95/p23-189.pdf"
   ]
  },
  {
   "cell_type": "markdown",
   "metadata": {},
   "source": [
    "Where not in universe, this probably means a person has not moved state. Also follows the same ratio seen in PrevReg."
   ]
  },
  {
   "cell_type": "code",
   "execution_count": 56,
   "metadata": {},
   "outputs": [],
   "source": [
    "df.loc[df['PrevState']==' Not in universe', 'PrevState'] = ' Same state'"
   ]
  },
  {
   "cell_type": "code",
   "execution_count": 57,
   "metadata": {},
   "outputs": [
    {
     "data": {
      "text/plain": [
       " ?                   149642\n",
       " Nonmover            123937\n",
       " MSA to MSA           15890\n",
       " NonMSA to nonMSA      4155\n",
       " Not in universe       2239\n",
       " MSA to nonMSA         1154\n",
       " NonMSA to MSA          910\n",
       " Not identifiable       630\n",
       " Abroad to MSA          619\n",
       " Abroad to nonMSA       109\n",
       "Name: MigCodeMSA, dtype: int64"
      ]
     },
     "execution_count": 57,
     "metadata": {},
     "output_type": "execute_result"
    }
   ],
   "source": [
    "df.MigCodeMSA.value_counts()"
   ]
  },
  {
   "cell_type": "markdown",
   "metadata": {},
   "source": [
    "Going by ratio of non-movers, `?` in MigCodeMSA can also be set to `Nonmover`. Same was done for MigCodeRegDiff and MigCodeRegSame"
   ]
  },
  {
   "cell_type": "code",
   "execution_count": 58,
   "metadata": {},
   "outputs": [],
   "source": [
    "# seems like the question marks here imply that there was no movement\n",
    "df.loc[df['MigCodeMSA'] == ' ?'].PrevState.value_counts()\n",
    "df.loc[df['MigCodeMSA'] == ' ?', 'MigCodeMSA'] = ' Nonmover'"
   ]
  },
  {
   "cell_type": "code",
   "execution_count": 59,
   "metadata": {},
   "outputs": [],
   "source": [
    "df['MigCodeRegDiff'].value_counts()\n",
    "df.loc[df['MigCodeRegDiff']==' ?', 'MigCodeRegDiff'] = ' Nonmover'"
   ]
  },
  {
   "cell_type": "code",
   "execution_count": 60,
   "metadata": {},
   "outputs": [],
   "source": [
    "df.loc[df['MigCodeRegSame']== ' ?', 'MigCodeRegSame'] = ' Nonmover'"
   ]
  },
  {
   "cell_type": "code",
   "execution_count": 61,
   "metadata": {},
   "outputs": [
    {
     "data": {
      "text/plain": [
       " Nonmover            273579\n",
       " MSA to MSA           15890\n",
       " NonMSA to nonMSA      4155\n",
       " Not in universe       2239\n",
       " MSA to nonMSA         1154\n",
       " NonMSA to MSA          910\n",
       " Not identifiable       630\n",
       " Abroad to MSA          619\n",
       " Abroad to nonMSA       109\n",
       "Name: MigCodeMSA, dtype: int64"
      ]
     },
     "execution_count": 61,
     "metadata": {},
     "output_type": "execute_result"
    }
   ],
   "source": [
    "df['MigCodeMSA'].value_counts()"
   ]
  },
  {
   "cell_type": "code",
   "execution_count": 62,
   "metadata": {},
   "outputs": [
    {
     "data": {
      "text/plain": [
       " Nonfiler                        2237\n",
       " Joint both under 65                1\n",
       " Joint one under 65 & one 65+       1\n",
       "Name: TaxFilerStat, dtype: int64"
      ]
     },
     "execution_count": 62,
     "metadata": {},
     "output_type": "execute_result"
    }
   ],
   "source": [
    "df.loc[df['MigCodeMSA']==' Not in universe'].TaxFilerStat.value_counts()"
   ]
  },
  {
   "cell_type": "code",
   "execution_count": 63,
   "metadata": {},
   "outputs": [],
   "source": [
    "# migcodemsa - age is 0 for all, therefore set as nonmover\n",
    "df.loc[df['MigCodeMSA']==' Not in universe', 'MigCodeMSA'] = ' Nonmover'\n",
    "df.loc[df['MigCodeRegDiff']==' Not in universe', 'MigCodeRegDiff'] = ' Nonmover'\n",
    "df.loc[df['MigCodeRegSame']==' Not in universe', 'MigCodeRegSame'] = ' Nonmover'"
   ]
  },
  {
   "cell_type": "code",
   "execution_count": 64,
   "metadata": {},
   "outputs": [
    {
     "data": {
      "image/png": "[encoded data removed]",
      "text/plain": [
       "<Figure size 691.2x216 with 2 Axes>"
      ]
     },
     "metadata": {
      "needs_background": "light"
     },
     "output_type": "display_data"
    }
   ],
   "source": [
    "df['MigResSunbelt'].value_counts()\n",
    "\n",
    "grid = sns.FacetGrid(df, col='Target', aspect=1.6)\n",
    "grid.map(weighted_hist, 'MigResSunbelt', 'InstanceWeight')\n",
    "plt.show()"
   ]
  },
  {
   "cell_type": "code",
   "execution_count": 65,
   "metadata": {},
   "outputs": [
    {
     "data": {
      "text/plain": [
       " ?                  139772\n",
       " Not in universe    118425\n",
       " No                  14146\n",
       " Yes                  8374\n",
       "Name: MigResSunbelt, dtype: int64"
      ]
     },
     "execution_count": 65,
     "metadata": {},
     "output_type": "execute_result"
    }
   ],
   "source": [
    "df.loc[(df['Target']==' - 50000.'),'MigResSunbelt'].value_counts()"
   ]
  },
  {
   "cell_type": "code",
   "execution_count": 66,
   "metadata": {},
   "outputs": [
    {
     "data": {
      "text/plain": [
       " ?                  9870\n",
       " Not in universe    7751\n",
       " No                  652\n",
       " Yes                 295\n",
       "Name: MigResSunbelt, dtype: int64"
      ]
     },
     "execution_count": 66,
     "metadata": {},
     "output_type": "execute_result"
    }
   ],
   "source": [
    "df.loc[(df['Target']==' 50000+.'),'MigResSunbelt'].value_counts()"
   ]
  },
  {
   "cell_type": "code",
   "execution_count": 67,
   "metadata": {},
   "outputs": [
    {
     "data": {
      "text/plain": [
       " ?    149642\n",
       "Name: MigResSunbelt, dtype: int64"
      ]
     },
     "execution_count": 67,
     "metadata": {},
     "output_type": "execute_result"
    }
   ],
   "source": [
    "# df.loc[(df['Target']==' 50000+.') & (df['MigResSunbelt']==' ?'), 'MigCodeMSA'].value_counts()\n",
    "df.loc[(df['MigResSunbelt']==' ?'), 'MigResSunbelt'].value_counts()"
   ]
  },
  {
   "cell_type": "markdown",
   "metadata": {},
   "source": [
    "Can't find any info regarding migressunbelt... dropping"
   ]
  },
  {
   "cell_type": "code",
   "execution_count": 68,
   "metadata": {},
   "outputs": [],
   "source": [
    "df.drop('MigResSunbelt', axis=1, inplace=True)"
   ]
  },
  {
   "cell_type": "code",
   "execution_count": 69,
   "metadata": {},
   "outputs": [
    {
     "data": {
      "image/png": "[encoded data removed]",
      "text/plain": [
       "<Figure size 691.2x216 with 2 Axes>"
      ]
     },
     "metadata": {
      "needs_background": "light"
     },
     "output_type": "display_data"
    }
   ],
   "source": [
    "grid = sns.FacetGrid(df, col='Target', aspect=1.6)\n",
    "grid.map(weighted_hist, 'FamMembersU18', 'InstanceWeight', bins=np.arange(0,df['FamMembersU18'].nunique())-0.5)\n",
    "plt.show()"
   ]
  },
  {
   "cell_type": "markdown",
   "metadata": {},
   "source": [
    "Same with FamMembersU18"
   ]
  },
  {
   "cell_type": "code",
   "execution_count": 70,
   "metadata": {},
   "outputs": [],
   "source": [
    "df.loc[(df['FamMembersU18']==' Not in universe')]\n",
    "df.drop('FamMembersU18', axis=1, inplace=True)"
   ]
  },
  {
   "cell_type": "markdown",
   "metadata": {},
   "source": [
    "For birth countries, the most popular value count was picked for `?` entries"
   ]
  },
  {
   "cell_type": "code",
   "execution_count": 71,
   "metadata": {},
   "outputs": [],
   "source": [
    "df.loc[df['FatherBirthCountry']==' ?', 'FatherBirthCountry'] = df['FatherBirthCountry'].value_counts().keys()[0]\n",
    "df.loc[df['MotherBirthCountry']==' ?', 'MotherBirthCountry'] = df['MotherBirthCountry'].value_counts().keys()[0]\n",
    "df.loc[df['SelfBirthCountry']==' ?', 'SelfBirthCountry'] = df['SelfBirthCountry'].value_counts().keys()[0]"
   ]
  },
  {
   "cell_type": "code",
   "execution_count": 72,
   "metadata": {},
   "outputs": [
    {
     "data": {
      "text/plain": [
       " Not in universe    296274\n",
       " No                   2421\n",
       " Yes                   590\n",
       "Name: VeteranAdmQ, dtype: int64"
      ]
     },
     "execution_count": 72,
     "metadata": {},
     "output_type": "execute_result"
    }
   ],
   "source": [
    "df['VeteranAdmQ'].value_counts()"
   ]
  },
  {
   "cell_type": "code",
   "execution_count": 73,
   "metadata": {},
   "outputs": [
    {
     "data": {
      "image/png": "[encoded data removed]",
      "text/plain": [
       "<Figure size 691.2x216 with 2 Axes>"
      ]
     },
     "metadata": {
      "needs_background": "light"
     },
     "output_type": "display_data"
    }
   ],
   "source": [
    "grid = sns.FacetGrid(df, col='Target', aspect=1.6)\n",
    "grid.map(weighted_hist, 'VeteranAdmQ', 'InstanceWeight', bins=[0,1,2])\n",
    "plt.show()"
   ]
  },
  {
   "cell_type": "markdown",
   "metadata": {},
   "source": [
    "Assuming that not in universe here means that they are not veterans"
   ]
  },
  {
   "cell_type": "code",
   "execution_count": 74,
   "metadata": {},
   "outputs": [],
   "source": [
    "df.loc[df['VeteranAdmQ']==' Not in universe', 'VeteranAdmQ'] = ' Not veteran'"
   ]
  },
  {
   "cell_type": "code",
   "execution_count": 75,
   "metadata": {},
   "outputs": [
    {
     "data": {
      "image/png": "[encoded data removed]",
      "text/plain": [
       "<Figure size 691.2x216 with 2 Axes>"
      ]
     },
     "metadata": {
      "needs_background": "light"
     },
     "output_type": "display_data"
    }
   ],
   "source": [
    "grid = sns.FacetGrid(df, col='Target', aspect=1.6)\n",
    "grid.map(weighted_hist, 'VeteranBen', 'InstanceWeight', bins=[1,2,3])\n",
    "plt.show()"
   ]
  },
  {
   "cell_type": "code",
   "execution_count": 76,
   "metadata": {},
   "outputs": [],
   "source": [
    "# checking to make sure got rid of all\n",
    "for col in df.columns:\n",
    "    if (' Not in universe' in df[col].value_counts().keys()) or (' ?' in df[col].value_counts().keys()):\n",
    "        print(col)"
   ]
  },
  {
   "cell_type": "markdown",
   "metadata": {},
   "source": [
    "# Encoding Part"
   ]
  },
  {
   "cell_type": "code",
   "execution_count": 77,
   "metadata": {},
   "outputs": [],
   "source": [
    "from sklearn.preprocessing import LabelEncoder\n",
    "\n",
    "def convertFeatures(data):\n",
    "    for col in data.columns.values:\n",
    "        if data[col].dtype.name == 'object':\n",
    "            le = LabelEncoder()\n",
    "            data[col] = le.fit_transform(data[col])"
   ]
  },
  {
   "cell_type": "code",
   "execution_count": 78,
   "metadata": {},
   "outputs": [],
   "source": [
    "convertFeatures(df)"
   ]
  },
  {
   "cell_type": "markdown",
   "metadata": {},
   "source": [
    "There is a large proportion of 0s in the Wage column, which should be quite important for classification"
   ]
  },
  {
   "cell_type": "code",
   "execution_count": 79,
   "metadata": {},
   "outputs": [],
   "source": [
    "df.loc[df['Wage']==0, 'Wage'] = None"
   ]
  },
  {
   "cell_type": "code",
   "execution_count": 80,
   "metadata": {},
   "outputs": [
    {
     "data": {
      "image/png": "[encoded data removed]",
      "text/plain": [
       "<Figure size 691.2x216 with 2 Axes>"
      ]
     },
     "metadata": {
      "needs_background": "light"
     },
     "output_type": "display_data"
    }
   ],
   "source": [
    "grid = sns.FacetGrid(df, col='Target', aspect=1.6)\n",
    "grid.map(plt.scatter, 'Wage', 'InstanceWeight')\n",
    "plt.show()"
   ]
  },
  {
   "cell_type": "code",
   "execution_count": 81,
   "metadata": {},
   "outputs": [
    {
     "data": {
      "text/plain": [
       "count    16888.000000\n",
       "mean       976.557793\n",
       "std        651.346665\n",
       "min         20.000000\n",
       "25%        580.000000\n",
       "50%        800.000000\n",
       "75%       1200.000000\n",
       "max       9999.000000\n",
       "Name: Wage, dtype: float64"
      ]
     },
     "execution_count": 81,
     "metadata": {},
     "output_type": "execute_result"
    }
   ],
   "source": [
    "df['Wage'].describe()"
   ]
  },
  {
   "cell_type": "markdown",
   "metadata": {},
   "source": [
    "ShapRanking was done for the entries within the data where Wage is not 0. This shows that Wage is the most important feature."
   ]
  },
  {
   "cell_type": "code",
   "execution_count": 82,
   "metadata": {},
   "outputs": [
    {
     "name": "stderr",
     "output_type": "stream",
     "text": [
      "\n",
      "A value is trying to be set on a copy of a slice from a DataFrame\n",
      "\n",
      "See the caveats in the documentation: http://pandas.pydata.org/pandas-docs/stable/user_guide/indexing.html#returning-a-view-versus-a-copy\n"
     ]
    },
    {
     "name": "stdout",
     "output_type": "stream",
     "text": [
      "Training until validation scores don't improve for 20 rounds\n",
      "[10]\tvalid_0's binary_logloss: 0.155915\n",
      "[20]\tvalid_0's binary_logloss: 0.145046\n",
      "[30]\tvalid_0's binary_logloss: 0.139453\n",
      "[40]\tvalid_0's binary_logloss: 0.135833\n",
      "[50]\tvalid_0's binary_logloss: 0.13357\n",
      "[60]\tvalid_0's binary_logloss: 0.132153\n",
      "[70]\tvalid_0's binary_logloss: 0.131216\n",
      "[80]\tvalid_0's binary_logloss: 0.131238\n",
      "[90]\tvalid_0's binary_logloss: 0.13157\n",
      "Early stopping, best iteration is:\n",
      "[79]\tvalid_0's binary_logloss: 0.131184\n"
     ]
    },
    {
     "name": "stderr",
     "output_type": "stream",
     "text": [
      "Setting feature_perturbation = \"tree_path_dependent\" because no background data was given.\n",
      "LightGBM binary classifier with TreeExplainer shap values output has changed to a list of ndarray\n"
     ]
    },
    {
     "data": {
      "image/png": "[encoded data removed]",
      "text/plain": [
       "<Figure size 576x684 with 2 Axes>"
      ]
     },
     "metadata": {
      "needs_background": "light"
     },
     "output_type": "display_data"
    }
   ],
   "source": [
    "# what is most important to my wage feature\n",
    "# do shapley ranking of wage \n",
    "def shapRanking(x_data, y_data):\n",
    "    train_x, valid_x, train_y, valid_y = train_test_split(\n",
    "        x_data, y_data, test_size=0.33, random_state=42)\n",
    "\n",
    "    train_data = lgb.Dataset(train_x, label=train_y)\n",
    "    valid_data = lgb.Dataset(valid_x, label=valid_y)\n",
    "\n",
    "    # LGB parameters:\n",
    "    params = {'learning_rate': 0.05,\n",
    "              'boosting': 'gbdt',\n",
    "              'objective': 'binary',\n",
    "              'num_leaves': 2000,\n",
    "              'min_data_in_leaf': 200,\n",
    "              'max_bin': 200,\n",
    "              'max_depth': 16,\n",
    "              'seed': 2018,\n",
    "              'nthread': 10, }\n",
    "\n",
    "    # LGB training:\n",
    "    lgb_model = lgb.train(params, train_data,\n",
    "                          num_boost_round=2000,\n",
    "                          valid_sets=(valid_data,),\n",
    "                          verbose_eval=10,\n",
    "                          early_stopping_rounds=20)\n",
    "\n",
    "    explainer = shap.TreeExplainer(lgb_model).shap_values(valid_x)\n",
    "    shap.summary_plot(explainer[1], valid_x)\n",
    "    plt.show()\n",
    "    \n",
    "# wage_df = df.drop(['Wage', 'InstanceWeight'], axis=1).loc[df['Wage']!=np.nan]\n",
    "wage_df = df.loc[df['Wage'].notnull()]\n",
    "wage_df_y = wage_df['Wage']\n",
    "\n",
    "# just checking what is important to target when wage is not 0\n",
    "wage_df_target = wage_df['Target']\n",
    "\n",
    "wage_df.drop('Target', inplace=True, axis=1)\n",
    "\n",
    "shapRanking(wage_df, wage_df_target)\n",
    "# shows that wage is important when it is there\n",
    "# try knn for wages when 0\n",
    "\n",
    "wage_df.drop(['Wage'], inplace=True, axis=1)"
   ]
  },
  {
   "cell_type": "code",
   "execution_count": 83,
   "metadata": {},
   "outputs": [
    {
     "data": {
      "text/plain": [
       "<matplotlib.axes._subplots.AxesSubplot at 0x1404957b8>"
      ]
     },
     "execution_count": 83,
     "metadata": {},
     "output_type": "execute_result"
    },
    {
     "data": {
      "image/png": "[encoded data removed]",
      "text/plain": [
       "<Figure size 432x288 with 1 Axes>"
      ]
     },
     "metadata": {
      "needs_background": "light"
     },
     "output_type": "display_data"
    }
   ],
   "source": [
    "sns.distplot(df.loc[df['Wage'].notnull()]['Wage'])"
   ]
  },
  {
   "cell_type": "code",
   "execution_count": 84,
   "metadata": {},
   "outputs": [
    {
     "data": {
      "text/plain": [
       "500.0     1094\n",
       "600.0      831\n",
       "700.0      815\n",
       "800.0      756\n",
       "1000.0     599\n",
       "          ... \n",
       "7800.0       1\n",
       "270.0        1\n",
       "1659.0       1\n",
       "2085.0       1\n",
       "1301.0       1\n",
       "Name: Wage, Length: 1424, dtype: int64"
      ]
     },
     "execution_count": 84,
     "metadata": {},
     "output_type": "execute_result"
    }
   ],
   "source": [
    "from scipy import stats\n",
    "\n",
    "# wage_list = df.loc[df['Wage'].notnull()]['Wage']\n",
    "# stats.probplot(wage_list, plot=sns.mpl.pyplot)\n",
    "wage_series = df.loc[df['Wage'].notnull()]['Wage'].value_counts()\n",
    "# 16888 have a wage\n",
    "# median is 2, mean is around 11.8\n",
    "wage_series"
   ]
  },
  {
   "cell_type": "markdown",
   "metadata": {},
   "source": [
    "Some 0 Wages were filled in by grouping the data according to IndustryCode, Education and OccupationCode and taking the mean of the wage."
   ]
  },
  {
   "cell_type": "code",
   "execution_count": 85,
   "metadata": {},
   "outputs": [],
   "source": [
    "df['Wage'] = df['Wage'].transform(lambda x: x.fillna(0))\n",
    "df['Wage'] = df.groupby(['IndustryCode', 'Education', 'OccupationCode'])['Wage'].transform(lambda x: x.fillna(x.mean()))\n",
    "\n",
    "# df.loc[df['Wage']==0].shape"
   ]
  },
  {
   "cell_type": "code",
   "execution_count": 86,
   "metadata": {},
   "outputs": [],
   "source": [
    "df.loc[df['Wage']==0, 'Wage'] = None"
   ]
  },
  {
   "cell_type": "markdown",
   "metadata": {},
   "source": [
    "When no mean could be found for the given groupby, the same was done but this time grouping by Education and OccupationCode."
   ]
  },
  {
   "cell_type": "code",
   "execution_count": 87,
   "metadata": {},
   "outputs": [],
   "source": [
    "df['Wage'] = df.groupby(['Education', 'OccupationCode'])['Wage'].transform(lambda x: x.fillna(x.mean()))"
   ]
  },
  {
   "cell_type": "markdown",
   "metadata": {},
   "source": [
    "The left over 0 Wages were dealt with using a KNN imputation method. The 95th percentile in terms of wage (0-2000) were taken as training points."
   ]
  },
  {
   "cell_type": "code",
   "execution_count": 88,
   "metadata": {},
   "outputs": [
    {
     "data": {
      "text/html": [
       "<div>\n",
       "<style scoped>\n",
       "    .dataframe tbody tr th:only-of-type {\n",
       "        vertical-align: middle;\n",
       "    }\n",
       "\n",
       "    .dataframe tbody tr th {\n",
       "        vertical-align: top;\n",
       "    }\n",
       "\n",
       "    .dataframe thead th {\n",
       "        text-align: right;\n",
       "    }\n",
       "</style>\n",
       "<table border=\"1\" class=\"dataframe\">\n",
       "  <thead>\n",
       "    <tr style=\"text-align: right;\">\n",
       "      <th></th>\n",
       "      <th>Age</th>\n",
       "      <th>WorkerClas</th>\n",
       "      <th>IndustryCode</th>\n",
       "      <th>OccupationCode</th>\n",
       "      <th>Education</th>\n",
       "      <th>Wage</th>\n",
       "      <th>MaritalStat</th>\n",
       "      <th>Race</th>\n",
       "      <th>HispOrig</th>\n",
       "      <th>Sex</th>\n",
       "      <th>LabourUnion</th>\n",
       "      <th>UnempReas</th>\n",
       "      <th>FullPartStat</th>\n",
       "      <th>CapGains</th>\n",
       "      <th>CapLosses</th>\n",
       "      <th>StockDiv</th>\n",
       "      <th>TaxFilerStat</th>\n",
       "      <th>PrevReg</th>\n",
       "      <th>PrevState</th>\n",
       "      <th>HouseholdFamStat</th>\n",
       "      <th>HouseholdSummaryStat</th>\n",
       "      <th>InstanceWeight</th>\n",
       "      <th>MigCodeMSA</th>\n",
       "      <th>MigCodeRegDiff</th>\n",
       "      <th>MigCodeRegSame</th>\n",
       "      <th>HouseLive1Yr</th>\n",
       "      <th>NumWorkersEmployer</th>\n",
       "      <th>FatherBirthCountry</th>\n",
       "      <th>MotherBirthCountry</th>\n",
       "      <th>SelfBirthCountry</th>\n",
       "      <th>Cit</th>\n",
       "      <th>BusinessOwner</th>\n",
       "      <th>VeteranAdmQ</th>\n",
       "      <th>VeteranBen</th>\n",
       "      <th>WeeksWorked</th>\n",
       "      <th>Yr</th>\n",
       "      <th>Target</th>\n",
       "    </tr>\n",
       "  </thead>\n",
       "  <tbody>\n",
       "    <tr>\n",
       "      <th>1</th>\n",
       "      <td>58</td>\n",
       "      <td>5</td>\n",
       "      <td>4</td>\n",
       "      <td>34</td>\n",
       "      <td>12</td>\n",
       "      <td>1375.619718</td>\n",
       "      <td>0</td>\n",
       "      <td>4</td>\n",
       "      <td>0</td>\n",
       "      <td>1</td>\n",
       "      <td>0</td>\n",
       "      <td>0</td>\n",
       "      <td>0</td>\n",
       "      <td>0</td>\n",
       "      <td>0</td>\n",
       "      <td>0</td>\n",
       "      <td>0</td>\n",
       "      <td>4</td>\n",
       "      <td>4</td>\n",
       "      <td>20</td>\n",
       "      <td>3</td>\n",
       "      <td>1053.55</td>\n",
       "      <td>2</td>\n",
       "      <td>6</td>\n",
       "      <td>7</td>\n",
       "      <td>0</td>\n",
       "      <td>1</td>\n",
       "      <td>39</td>\n",
       "      <td>39</td>\n",
       "      <td>39</td>\n",
       "      <td>4</td>\n",
       "      <td>0</td>\n",
       "      <td>1</td>\n",
       "      <td>2</td>\n",
       "      <td>52</td>\n",
       "      <td>94</td>\n",
       "      <td>0</td>\n",
       "    </tr>\n",
       "    <tr>\n",
       "      <th>5</th>\n",
       "      <td>48</td>\n",
       "      <td>3</td>\n",
       "      <td>40</td>\n",
       "      <td>10</td>\n",
       "      <td>12</td>\n",
       "      <td>1200.000000</td>\n",
       "      <td>2</td>\n",
       "      <td>0</td>\n",
       "      <td>0</td>\n",
       "      <td>0</td>\n",
       "      <td>0</td>\n",
       "      <td>0</td>\n",
       "      <td>1</td>\n",
       "      <td>0</td>\n",
       "      <td>0</td>\n",
       "      <td>0</td>\n",
       "      <td>2</td>\n",
       "      <td>2</td>\n",
       "      <td>40</td>\n",
       "      <td>37</td>\n",
       "      <td>6</td>\n",
       "      <td>162.61</td>\n",
       "      <td>6</td>\n",
       "      <td>5</td>\n",
       "      <td>6</td>\n",
       "      <td>0</td>\n",
       "      <td>1</td>\n",
       "      <td>30</td>\n",
       "      <td>39</td>\n",
       "      <td>39</td>\n",
       "      <td>4</td>\n",
       "      <td>2</td>\n",
       "      <td>1</td>\n",
       "      <td>2</td>\n",
       "      <td>52</td>\n",
       "      <td>95</td>\n",
       "      <td>0</td>\n",
       "    </tr>\n",
       "    <tr>\n",
       "      <th>6</th>\n",
       "      <td>42</td>\n",
       "      <td>3</td>\n",
       "      <td>34</td>\n",
       "      <td>3</td>\n",
       "      <td>2</td>\n",
       "      <td>1344.528090</td>\n",
       "      <td>2</td>\n",
       "      <td>4</td>\n",
       "      <td>0</td>\n",
       "      <td>1</td>\n",
       "      <td>0</td>\n",
       "      <td>0</td>\n",
       "      <td>0</td>\n",
       "      <td>5178</td>\n",
       "      <td>0</td>\n",
       "      <td>0</td>\n",
       "      <td>2</td>\n",
       "      <td>2</td>\n",
       "      <td>40</td>\n",
       "      <td>20</td>\n",
       "      <td>3</td>\n",
       "      <td>1535.86</td>\n",
       "      <td>6</td>\n",
       "      <td>5</td>\n",
       "      <td>6</td>\n",
       "      <td>1</td>\n",
       "      <td>6</td>\n",
       "      <td>39</td>\n",
       "      <td>39</td>\n",
       "      <td>39</td>\n",
       "      <td>4</td>\n",
       "      <td>0</td>\n",
       "      <td>1</td>\n",
       "      <td>2</td>\n",
       "      <td>52</td>\n",
       "      <td>94</td>\n",
       "      <td>0</td>\n",
       "    </tr>\n",
       "    <tr>\n",
       "      <th>7</th>\n",
       "      <td>28</td>\n",
       "      <td>3</td>\n",
       "      <td>4</td>\n",
       "      <td>40</td>\n",
       "      <td>8</td>\n",
       "      <td>965.727273</td>\n",
       "      <td>4</td>\n",
       "      <td>4</td>\n",
       "      <td>0</td>\n",
       "      <td>0</td>\n",
       "      <td>0</td>\n",
       "      <td>2</td>\n",
       "      <td>6</td>\n",
       "      <td>0</td>\n",
       "      <td>0</td>\n",
       "      <td>0</td>\n",
       "      <td>5</td>\n",
       "      <td>2</td>\n",
       "      <td>40</td>\n",
       "      <td>35</td>\n",
       "      <td>4</td>\n",
       "      <td>898.83</td>\n",
       "      <td>6</td>\n",
       "      <td>5</td>\n",
       "      <td>6</td>\n",
       "      <td>0</td>\n",
       "      <td>4</td>\n",
       "      <td>39</td>\n",
       "      <td>39</td>\n",
       "      <td>39</td>\n",
       "      <td>4</td>\n",
       "      <td>0</td>\n",
       "      <td>1</td>\n",
       "      <td>2</td>\n",
       "      <td>30</td>\n",
       "      <td>95</td>\n",
       "      <td>0</td>\n",
       "    </tr>\n",
       "    <tr>\n",
       "      <th>8</th>\n",
       "      <td>47</td>\n",
       "      <td>1</td>\n",
       "      <td>43</td>\n",
       "      <td>26</td>\n",
       "      <td>12</td>\n",
       "      <td>876.000000</td>\n",
       "      <td>2</td>\n",
       "      <td>4</td>\n",
       "      <td>0</td>\n",
       "      <td>0</td>\n",
       "      <td>0</td>\n",
       "      <td>0</td>\n",
       "      <td>1</td>\n",
       "      <td>0</td>\n",
       "      <td>0</td>\n",
       "      <td>0</td>\n",
       "      <td>2</td>\n",
       "      <td>2</td>\n",
       "      <td>40</td>\n",
       "      <td>37</td>\n",
       "      <td>6</td>\n",
       "      <td>1661.53</td>\n",
       "      <td>6</td>\n",
       "      <td>5</td>\n",
       "      <td>6</td>\n",
       "      <td>0</td>\n",
       "      <td>5</td>\n",
       "      <td>39</td>\n",
       "      <td>39</td>\n",
       "      <td>39</td>\n",
       "      <td>4</td>\n",
       "      <td>0</td>\n",
       "      <td>1</td>\n",
       "      <td>2</td>\n",
       "      <td>52</td>\n",
       "      <td>95</td>\n",
       "      <td>0</td>\n",
       "    </tr>\n",
       "    <tr>\n",
       "      <th>...</th>\n",
       "      <td>...</td>\n",
       "      <td>...</td>\n",
       "      <td>...</td>\n",
       "      <td>...</td>\n",
       "      <td>...</td>\n",
       "      <td>...</td>\n",
       "      <td>...</td>\n",
       "      <td>...</td>\n",
       "      <td>...</td>\n",
       "      <td>...</td>\n",
       "      <td>...</td>\n",
       "      <td>...</td>\n",
       "      <td>...</td>\n",
       "      <td>...</td>\n",
       "      <td>...</td>\n",
       "      <td>...</td>\n",
       "      <td>...</td>\n",
       "      <td>...</td>\n",
       "      <td>...</td>\n",
       "      <td>...</td>\n",
       "      <td>...</td>\n",
       "      <td>...</td>\n",
       "      <td>...</td>\n",
       "      <td>...</td>\n",
       "      <td>...</td>\n",
       "      <td>...</td>\n",
       "      <td>...</td>\n",
       "      <td>...</td>\n",
       "      <td>...</td>\n",
       "      <td>...</td>\n",
       "      <td>...</td>\n",
       "      <td>...</td>\n",
       "      <td>...</td>\n",
       "      <td>...</td>\n",
       "      <td>...</td>\n",
       "      <td>...</td>\n",
       "      <td>...</td>\n",
       "    </tr>\n",
       "    <tr>\n",
       "      <th>99752</th>\n",
       "      <td>46</td>\n",
       "      <td>3</td>\n",
       "      <td>44</td>\n",
       "      <td>3</td>\n",
       "      <td>12</td>\n",
       "      <td>1028.965517</td>\n",
       "      <td>2</td>\n",
       "      <td>2</td>\n",
       "      <td>0</td>\n",
       "      <td>0</td>\n",
       "      <td>0</td>\n",
       "      <td>0</td>\n",
       "      <td>1</td>\n",
       "      <td>0</td>\n",
       "      <td>0</td>\n",
       "      <td>0</td>\n",
       "      <td>2</td>\n",
       "      <td>2</td>\n",
       "      <td>40</td>\n",
       "      <td>37</td>\n",
       "      <td>6</td>\n",
       "      <td>1197.34</td>\n",
       "      <td>6</td>\n",
       "      <td>5</td>\n",
       "      <td>6</td>\n",
       "      <td>0</td>\n",
       "      <td>1</td>\n",
       "      <td>39</td>\n",
       "      <td>39</td>\n",
       "      <td>39</td>\n",
       "      <td>4</td>\n",
       "      <td>0</td>\n",
       "      <td>1</td>\n",
       "      <td>2</td>\n",
       "      <td>52</td>\n",
       "      <td>95</td>\n",
       "      <td>0</td>\n",
       "    </tr>\n",
       "    <tr>\n",
       "      <th>99754</th>\n",
       "      <td>17</td>\n",
       "      <td>3</td>\n",
       "      <td>33</td>\n",
       "      <td>29</td>\n",
       "      <td>6</td>\n",
       "      <td>451.438525</td>\n",
       "      <td>4</td>\n",
       "      <td>4</td>\n",
       "      <td>0</td>\n",
       "      <td>0</td>\n",
       "      <td>0</td>\n",
       "      <td>0</td>\n",
       "      <td>1</td>\n",
       "      <td>0</td>\n",
       "      <td>0</td>\n",
       "      <td>0</td>\n",
       "      <td>4</td>\n",
       "      <td>2</td>\n",
       "      <td>40</td>\n",
       "      <td>8</td>\n",
       "      <td>1</td>\n",
       "      <td>1414.11</td>\n",
       "      <td>6</td>\n",
       "      <td>5</td>\n",
       "      <td>6</td>\n",
       "      <td>0</td>\n",
       "      <td>6</td>\n",
       "      <td>39</td>\n",
       "      <td>39</td>\n",
       "      <td>39</td>\n",
       "      <td>4</td>\n",
       "      <td>0</td>\n",
       "      <td>1</td>\n",
       "      <td>2</td>\n",
       "      <td>1</td>\n",
       "      <td>95</td>\n",
       "      <td>0</td>\n",
       "    </tr>\n",
       "    <tr>\n",
       "      <th>99758</th>\n",
       "      <td>61</td>\n",
       "      <td>3</td>\n",
       "      <td>8</td>\n",
       "      <td>36</td>\n",
       "      <td>7</td>\n",
       "      <td>819.096000</td>\n",
       "      <td>5</td>\n",
       "      <td>2</td>\n",
       "      <td>0</td>\n",
       "      <td>1</td>\n",
       "      <td>0</td>\n",
       "      <td>0</td>\n",
       "      <td>1</td>\n",
       "      <td>0</td>\n",
       "      <td>0</td>\n",
       "      <td>0</td>\n",
       "      <td>5</td>\n",
       "      <td>2</td>\n",
       "      <td>40</td>\n",
       "      <td>22</td>\n",
       "      <td>3</td>\n",
       "      <td>2511.11</td>\n",
       "      <td>6</td>\n",
       "      <td>5</td>\n",
       "      <td>6</td>\n",
       "      <td>0</td>\n",
       "      <td>4</td>\n",
       "      <td>39</td>\n",
       "      <td>39</td>\n",
       "      <td>39</td>\n",
       "      <td>4</td>\n",
       "      <td>0</td>\n",
       "      <td>1</td>\n",
       "      <td>2</td>\n",
       "      <td>52</td>\n",
       "      <td>95</td>\n",
       "      <td>0</td>\n",
       "    </tr>\n",
       "    <tr>\n",
       "      <th>99759</th>\n",
       "      <td>24</td>\n",
       "      <td>5</td>\n",
       "      <td>1</td>\n",
       "      <td>43</td>\n",
       "      <td>7</td>\n",
       "      <td>475.000000</td>\n",
       "      <td>2</td>\n",
       "      <td>4</td>\n",
       "      <td>1</td>\n",
       "      <td>1</td>\n",
       "      <td>0</td>\n",
       "      <td>0</td>\n",
       "      <td>0</td>\n",
       "      <td>0</td>\n",
       "      <td>0</td>\n",
       "      <td>0</td>\n",
       "      <td>2</td>\n",
       "      <td>2</td>\n",
       "      <td>40</td>\n",
       "      <td>36</td>\n",
       "      <td>4</td>\n",
       "      <td>2083.76</td>\n",
       "      <td>6</td>\n",
       "      <td>5</td>\n",
       "      <td>6</td>\n",
       "      <td>1</td>\n",
       "      <td>2</td>\n",
       "      <td>25</td>\n",
       "      <td>25</td>\n",
       "      <td>25</td>\n",
       "      <td>1</td>\n",
       "      <td>0</td>\n",
       "      <td>1</td>\n",
       "      <td>2</td>\n",
       "      <td>52</td>\n",
       "      <td>94</td>\n",
       "      <td>0</td>\n",
       "    </tr>\n",
       "    <tr>\n",
       "      <th>99760</th>\n",
       "      <td>30</td>\n",
       "      <td>3</td>\n",
       "      <td>45</td>\n",
       "      <td>2</td>\n",
       "      <td>2</td>\n",
       "      <td>1449.358696</td>\n",
       "      <td>2</td>\n",
       "      <td>4</td>\n",
       "      <td>0</td>\n",
       "      <td>0</td>\n",
       "      <td>0</td>\n",
       "      <td>0</td>\n",
       "      <td>1</td>\n",
       "      <td>0</td>\n",
       "      <td>0</td>\n",
       "      <td>0</td>\n",
       "      <td>2</td>\n",
       "      <td>2</td>\n",
       "      <td>40</td>\n",
       "      <td>37</td>\n",
       "      <td>6</td>\n",
       "      <td>1680.06</td>\n",
       "      <td>6</td>\n",
       "      <td>5</td>\n",
       "      <td>6</td>\n",
       "      <td>0</td>\n",
       "      <td>5</td>\n",
       "      <td>39</td>\n",
       "      <td>39</td>\n",
       "      <td>39</td>\n",
       "      <td>4</td>\n",
       "      <td>0</td>\n",
       "      <td>1</td>\n",
       "      <td>2</td>\n",
       "      <td>52</td>\n",
       "      <td>95</td>\n",
       "      <td>0</td>\n",
       "    </tr>\n",
       "  </tbody>\n",
       "</table>\n",
       "<p>131111 rows × 37 columns</p>\n",
       "</div>"
      ],
      "text/plain": [
       "       Age  WorkerClas  IndustryCode  OccupationCode  Education         Wage  \\\n",
       "1       58           5             4              34         12  1375.619718   \n",
       "5       48           3            40              10         12  1200.000000   \n",
       "6       42           3            34               3          2  1344.528090   \n",
       "7       28           3             4              40          8   965.727273   \n",
       "8       47           1            43              26         12   876.000000   \n",
       "...    ...         ...           ...             ...        ...          ...   \n",
       "99752   46           3            44               3         12  1028.965517   \n",
       "99754   17           3            33              29          6   451.438525   \n",
       "99758   61           3             8              36          7   819.096000   \n",
       "99759   24           5             1              43          7   475.000000   \n",
       "99760   30           3            45               2          2  1449.358696   \n",
       "\n",
       "       MaritalStat  Race  HispOrig  Sex  LabourUnion  UnempReas  FullPartStat  \\\n",
       "1                0     4         0    1            0          0             0   \n",
       "5                2     0         0    0            0          0             1   \n",
       "6                2     4         0    1            0          0             0   \n",
       "7                4     4         0    0            0          2             6   \n",
       "8                2     4         0    0            0          0             1   \n",
       "...            ...   ...       ...  ...          ...        ...           ...   \n",
       "99752            2     2         0    0            0          0             1   \n",
       "99754            4     4         0    0            0          0             1   \n",
       "99758            5     2         0    1            0          0             1   \n",
       "99759            2     4         1    1            0          0             0   \n",
       "99760            2     4         0    0            0          0             1   \n",
       "\n",
       "       CapGains  CapLosses  StockDiv  TaxFilerStat  PrevReg  PrevState  \\\n",
       "1             0          0         0             0        4          4   \n",
       "5             0          0         0             2        2         40   \n",
       "6          5178          0         0             2        2         40   \n",
       "7             0          0         0             5        2         40   \n",
       "8             0          0         0             2        2         40   \n",
       "...         ...        ...       ...           ...      ...        ...   \n",
       "99752         0          0         0             2        2         40   \n",
       "99754         0          0         0             4        2         40   \n",
       "99758         0          0         0             5        2         40   \n",
       "99759         0          0         0             2        2         40   \n",
       "99760         0          0         0             2        2         40   \n",
       "\n",
       "       HouseholdFamStat  HouseholdSummaryStat  InstanceWeight  MigCodeMSA  \\\n",
       "1                    20                     3         1053.55           2   \n",
       "5                    37                     6          162.61           6   \n",
       "6                    20                     3         1535.86           6   \n",
       "7                    35                     4          898.83           6   \n",
       "8                    37                     6         1661.53           6   \n",
       "...                 ...                   ...             ...         ...   \n",
       "99752                37                     6         1197.34           6   \n",
       "99754                 8                     1         1414.11           6   \n",
       "99758                22                     3         2511.11           6   \n",
       "99759                36                     4         2083.76           6   \n",
       "99760                37                     6         1680.06           6   \n",
       "\n",
       "       MigCodeRegDiff  MigCodeRegSame  HouseLive1Yr  NumWorkersEmployer  \\\n",
       "1                   6               7             0                   1   \n",
       "5                   5               6             0                   1   \n",
       "6                   5               6             1                   6   \n",
       "7                   5               6             0                   4   \n",
       "8                   5               6             0                   5   \n",
       "...               ...             ...           ...                 ...   \n",
       "99752               5               6             0                   1   \n",
       "99754               5               6             0                   6   \n",
       "99758               5               6             0                   4   \n",
       "99759               5               6             1                   2   \n",
       "99760               5               6             0                   5   \n",
       "\n",
       "       FatherBirthCountry  MotherBirthCountry  SelfBirthCountry  Cit  \\\n",
       "1                      39                  39                39    4   \n",
       "5                      30                  39                39    4   \n",
       "6                      39                  39                39    4   \n",
       "7                      39                  39                39    4   \n",
       "8                      39                  39                39    4   \n",
       "...                   ...                 ...               ...  ...   \n",
       "99752                  39                  39                39    4   \n",
       "99754                  39                  39                39    4   \n",
       "99758                  39                  39                39    4   \n",
       "99759                  25                  25                25    1   \n",
       "99760                  39                  39                39    4   \n",
       "\n",
       "       BusinessOwner  VeteranAdmQ  VeteranBen  WeeksWorked  Yr  Target  \n",
       "1                  0            1           2           52  94       0  \n",
       "5                  2            1           2           52  95       0  \n",
       "6                  0            1           2           52  94       0  \n",
       "7                  0            1           2           30  95       0  \n",
       "8                  0            1           2           52  95       0  \n",
       "...              ...          ...         ...          ...  ..     ...  \n",
       "99752              0            1           2           52  95       0  \n",
       "99754              0            1           2            1  95       0  \n",
       "99758              0            1           2           52  95       0  \n",
       "99759              0            1           2           52  94       0  \n",
       "99760              0            1           2           52  95       0  \n",
       "\n",
       "[131111 rows x 37 columns]"
      ]
     },
     "execution_count": 88,
     "metadata": {},
     "output_type": "execute_result"
    }
   ],
   "source": [
    "# from sklearn.impute import KNNImputer\n",
    "\n",
    "df.loc[df['Wage'].isnull(), 'Wage'] = 0\n",
    "df_ninetyfifth = df.loc[df['Wage'] < df['Wage'].quantile(0.95)]\n",
    "\n",
    "#  using groupby averages (ie filled in) to train knn and fill in others where 0\n",
    "df_ninetyfifth_wage = df_ninetyfifth.loc[df_ninetyfifth['Wage']!=0]\n",
    "df_ninetyfifth_wage"
   ]
  },
  {
   "cell_type": "code",
   "execution_count": 89,
   "metadata": {},
   "outputs": [
    {
     "data": {
      "text/plain": [
       "KNeighborsRegressor(algorithm='auto', leaf_size=30, metric='minkowski',\n",
       "                    metric_params=None, n_jobs=None, n_neighbors=10, p=2,\n",
       "                    weights='uniform')"
      ]
     },
     "execution_count": 89,
     "metadata": {},
     "output_type": "execute_result"
    }
   ],
   "source": [
    "from sklearn.neighbors import KNeighborsRegressor\n",
    "\n",
    "df_ninetyfifth_wage_y = df_ninetyfifth_wage['Wage']\n",
    "df_ninetyfifth_wage.drop(['InstanceWeight', 'Wage', 'Target'], axis=1, inplace=True)\n",
    "\n",
    "# fit knn regressor on data that has wage (orig + groupby)\n",
    "neig = KNeighborsRegressor(n_neighbors=10)\n",
    "neig.fit(df_ninetyfifth_wage, df_ninetyfifth_wage_y)"
   ]
  },
  {
   "cell_type": "code",
   "execution_count": 90,
   "metadata": {},
   "outputs": [],
   "source": [
    "df.loc[df['Wage']==0, 'Wage'] = neig.predict(df.loc[df['Wage']==0].drop(['InstanceWeight', 'Wage', 'Target'], axis=1))"
   ]
  },
  {
   "cell_type": "markdown",
   "metadata": {},
   "source": [
    "After predicting via KNN, set those that are out of working age to 0 Wage. Also those that are unemployed as having 0 Wage"
   ]
  },
  {
   "cell_type": "code",
   "execution_count": 91,
   "metadata": {},
   "outputs": [],
   "source": [
    "# set all those that arent of working age to have 0 wage\n",
    "df.loc[(df['Age'] > 16) & (df['Age'] <= 65), 'Wage'] = 0\n",
    "\n",
    "# not employed therefore should have 0 wage\n",
    "df.loc[(df['UnempReas']!=0), 'Wage'] = 0"
   ]
  },
  {
   "cell_type": "code",
   "execution_count": 92,
   "metadata": {},
   "outputs": [
    {
     "data": {
      "text/plain": [
       "0    290085\n",
       "4      3146\n",
       "5      3043\n",
       "2      1484\n",
       "1       884\n",
       "3       643\n",
       "Name: UnempReas, dtype: int64"
      ]
     },
     "execution_count": 92,
     "metadata": {},
     "output_type": "execute_result"
    }
   ],
   "source": [
    "df['UnempReas'].value_counts()"
   ]
  },
  {
   "cell_type": "markdown",
   "metadata": {},
   "source": [
    "Shap ranking done over all data shows how the newly imputed wage has made the feature more important (when compared to previous implementation in other repo)."
   ]
  },
  {
   "cell_type": "code",
   "execution_count": 93,
   "metadata": {},
   "outputs": [
    {
     "name": "stdout",
     "output_type": "stream",
     "text": [
      "Training until validation scores don't improve for 20 rounds\n",
      "[10]\tvalid_0's binary_logloss: 0.16016\n",
      "[20]\tvalid_0's binary_logloss: 0.139326\n",
      "[30]\tvalid_0's binary_logloss: 0.128829\n",
      "[40]\tvalid_0's binary_logloss: 0.122855\n",
      "[50]\tvalid_0's binary_logloss: 0.118989\n",
      "[60]\tvalid_0's binary_logloss: 0.116616\n",
      "[70]\tvalid_0's binary_logloss: 0.115057\n",
      "[80]\tvalid_0's binary_logloss: 0.11397\n",
      "[90]\tvalid_0's binary_logloss: 0.113291\n",
      "[100]\tvalid_0's binary_logloss: 0.112722\n",
      "[110]\tvalid_0's binary_logloss: 0.112359\n",
      "[120]\tvalid_0's binary_logloss: 0.112053\n",
      "[130]\tvalid_0's binary_logloss: 0.111681\n",
      "[140]\tvalid_0's binary_logloss: 0.111371\n",
      "[150]\tvalid_0's binary_logloss: 0.111169\n",
      "[160]\tvalid_0's binary_logloss: 0.110953\n",
      "[170]\tvalid_0's binary_logloss: 0.110758\n",
      "[180]\tvalid_0's binary_logloss: 0.110606\n",
      "[190]\tvalid_0's binary_logloss: 0.110493\n",
      "[200]\tvalid_0's binary_logloss: 0.110414\n",
      "[210]\tvalid_0's binary_logloss: 0.110334\n",
      "[220]\tvalid_0's binary_logloss: 0.110267\n",
      "[230]\tvalid_0's binary_logloss: 0.1102\n",
      "[240]\tvalid_0's binary_logloss: 0.110198\n",
      "[250]\tvalid_0's binary_logloss: 0.11013\n",
      "[260]\tvalid_0's binary_logloss: 0.110132\n",
      "[270]\tvalid_0's binary_logloss: 0.110111\n",
      "[280]\tvalid_0's binary_logloss: 0.110163\n",
      "[290]\tvalid_0's binary_logloss: 0.110125\n",
      "Early stopping, best iteration is:\n",
      "[274]\tvalid_0's binary_logloss: 0.110101\n"
     ]
    },
    {
     "name": "stderr",
     "output_type": "stream",
     "text": [
      "Setting feature_perturbation = \"tree_path_dependent\" because no background data was given.\n",
      "LightGBM binary classifier with TreeExplainer shap values output has changed to a list of ndarray\n"
     ]
    },
    {
     "data": {
      "image/png": "[encoded data removed]",
      "text/plain": [
       "<Figure size 576x684 with 2 Axes>"
      ]
     },
     "metadata": {
      "needs_background": "light"
     },
     "output_type": "display_data"
    }
   ],
   "source": [
    "df_new_y = df['Target']\n",
    "df_new = df.drop(['Target', 'InstanceWeight'], axis=1)\n",
    "shapRanking(df_new, df_new_y)"
   ]
  },
  {
   "cell_type": "markdown",
   "metadata": {},
   "source": [
    "# Feature Ranking"
   ]
  },
  {
   "cell_type": "code",
   "execution_count": 94,
   "metadata": {},
   "outputs": [],
   "source": [
    "df_rank_test = df.drop(['InstanceWeight'], axis=1)\n",
    "df_rank_test_y = df_rank_test['Target']\n",
    "df_rank_test.drop(['Target'], axis=1, inplace=True)"
   ]
  },
  {
   "cell_type": "code",
   "execution_count": 95,
   "metadata": {},
   "outputs": [
    {
     "ename": "NameError",
     "evalue": "name 'LogisticRegression' is not defined",
     "output_type": "error",
     "traceback": [
      "\u001b[0;31m---------------------------------------------------------------------------\u001b[0m",
      "\u001b[0;31mNameError\u001b[0m                                 Traceback (most recent call last)",
      "\u001b[0;32m<ipython-input-95-796d5a83eeb1>\u001b[0m in \u001b[0;36m<module>\u001b[0;34m\u001b[0m\n\u001b[1;32m     10\u001b[0m     \u001b[0mprint\u001b[0m\u001b[0;34m(\u001b[0m\u001b[0mselector\u001b[0m\u001b[0;34m.\u001b[0m\u001b[0mn_features_\u001b[0m\u001b[0;34m)\u001b[0m\u001b[0;34m\u001b[0m\u001b[0;34m\u001b[0m\u001b[0m\n\u001b[1;32m     11\u001b[0m \u001b[0;34m\u001b[0m\u001b[0m\n\u001b[0;32m---> 12\u001b[0;31m \u001b[0mrecursiveFeatureElim\u001b[0m\u001b[0;34m(\u001b[0m\u001b[0mdf_rank_test\u001b[0m\u001b[0;34m,\u001b[0m \u001b[0mdf_rank_test_y\u001b[0m\u001b[0;34m)\u001b[0m\u001b[0;34m\u001b[0m\u001b[0;34m\u001b[0m\u001b[0m\n\u001b[0m",
      "\u001b[0;32m<ipython-input-95-796d5a83eeb1>\u001b[0m in \u001b[0;36mrecursiveFeatureElim\u001b[0;34m(x_data, y_data)\u001b[0m\n\u001b[1;32m      3\u001b[0m \u001b[0;32mdef\u001b[0m \u001b[0mrecursiveFeatureElim\u001b[0m\u001b[0;34m(\u001b[0m\u001b[0mx_data\u001b[0m\u001b[0;34m,\u001b[0m \u001b[0my_data\u001b[0m\u001b[0;34m)\u001b[0m\u001b[0;34m:\u001b[0m\u001b[0;34m\u001b[0m\u001b[0;34m\u001b[0m\u001b[0m\n\u001b[1;32m      4\u001b[0m     \u001b[0;31m# using recursive feature elimination\u001b[0m\u001b[0;34m\u001b[0m\u001b[0;34m\u001b[0m\u001b[0;34m\u001b[0m\u001b[0m\n\u001b[0;32m----> 5\u001b[0;31m     \u001b[0mestimator\u001b[0m \u001b[0;34m=\u001b[0m \u001b[0mLogisticRegression\u001b[0m\u001b[0;34m(\u001b[0m\u001b[0msolver\u001b[0m\u001b[0;34m=\u001b[0m\u001b[0;34m'lbfgs'\u001b[0m\u001b[0;34m)\u001b[0m\u001b[0;34m\u001b[0m\u001b[0;34m\u001b[0m\u001b[0m\n\u001b[0m\u001b[1;32m      6\u001b[0m     \u001b[0mselector\u001b[0m \u001b[0;34m=\u001b[0m \u001b[0mRFE\u001b[0m\u001b[0;34m(\u001b[0m\u001b[0mestimator\u001b[0m\u001b[0;34m,\u001b[0m \u001b[0;36m10\u001b[0m\u001b[0;34m,\u001b[0m \u001b[0mstep\u001b[0m\u001b[0;34m=\u001b[0m\u001b[0;36m1\u001b[0m\u001b[0;34m)\u001b[0m\u001b[0;34m\u001b[0m\u001b[0;34m\u001b[0m\u001b[0m\n\u001b[1;32m      7\u001b[0m     \u001b[0mselector\u001b[0m \u001b[0;34m=\u001b[0m \u001b[0mselector\u001b[0m\u001b[0;34m.\u001b[0m\u001b[0mfit\u001b[0m\u001b[0;34m(\u001b[0m\u001b[0mx_data\u001b[0m\u001b[0;34m,\u001b[0m \u001b[0my_data\u001b[0m\u001b[0;34m)\u001b[0m\u001b[0;34m\u001b[0m\u001b[0;34m\u001b[0m\u001b[0m\n",
      "\u001b[0;31mNameError\u001b[0m: name 'LogisticRegression' is not defined"
     ]
    }
   ],
   "source": [
    "from sklearn.feature_selection import RFE, SelectKBest, chi2, mutual_info_classif\n",
    "from sklearn.linear_model import LogisticRegression\n",
    "def recursiveFeatureElim(x_data, y_data):\n",
    "    # using recursive feature elimination\n",
    "    estimator = LogisticRegression(solver='lbfgs')\n",
    "    selector = RFE(estimator, 10, step=1)\n",
    "    selector = selector.fit(x_data, y_data)\n",
    "    print(selector.ranking_)\n",
    "    print(x_data.columns.values)\n",
    "    print(selector.n_features_)    \n",
    "    \n",
    "recursiveFeatureElim(df_rank_test, df_rank_test_y)"
   ]
  },
  {
   "cell_type": "code",
   "execution_count": null,
   "metadata": {},
   "outputs": [],
   "source": [
    "def chiSquare(x_data, y_data):\n",
    "    # using chisquare test - only for categorical vars, higher implies greater independence\n",
    "    chiData = x_data.drop(['Age', 'Wage', 'CapGains', 'CapLosses', 'StockDiv', 'NumWorkersEmployer', 'WeeksWorked'], axis=1)\n",
    "    selector = SelectKBest(score_func=chi2, k='all')\n",
    "    selector.fit(chiData, y_data)\n",
    "    fs_res = selector.transform(chiData)\n",
    "    for i in range(len(selector.scores_)):\n",
    "        print('Feature %s: %f' % (chiData.columns.values[i], selector.scores_[i]))\n",
    "\n",
    "    bar = plt.bar([i for i in range(len(selector.scores_))], selector.scores_, log=True)\n",
    "    plt.xticks(ticks=np.arange(len(chiData.columns.values)), labels=chiData.columns.values, rotation=90)\n",
    "    plt.show()\n",
    "    \n",
    "chiSquare(df_rank_test, df_rank_test_y)"
   ]
  },
  {
   "cell_type": "code",
   "execution_count": null,
   "metadata": {},
   "outputs": [],
   "source": [
    "def mutualInfoRanking(x_data, y_data):\n",
    "    # using mutual information feature selection\n",
    "    selector = SelectKBest(score_func=mutual_info_classif, k='all')\n",
    "    selector.fit(x_data, y_data)\n",
    "    selector.transform(x_data)\n",
    "    for i in range(len(selector.scores_)):\n",
    "        print('Feature %s: %f' % (x_data.columns.values[i], selector.scores_[i]))\n",
    "\n",
    "    bar = plt.bar([i for i in range(len(selector.scores_))], selector.scores_)\n",
    "    plt.xticks(ticks=np.arange(len(x_data.columns.values)), labels=x_data.columns.values, rotation=90)\n",
    "    plt.show()\n",
    "    \n",
    "mutualInfoRanking(df_rank_test, df_rank_test_y)"
   ]
  },
  {
   "cell_type": "code",
   "execution_count": null,
   "metadata": {},
   "outputs": [],
   "source": [
    "def continuousCorrelation(data):\n",
    "    data = data[['Age', 'Wage', 'CapGains', 'CapLosses', 'StockDiv', 'NumWorkersEmployer', 'WeeksWorked', 'Target']]\n",
    "    corr = data.corr()\n",
    "    hm = sns.heatmap(corr, vmin=-1, vmax=1, center=0, square=True, xticklabels=corr.columns.values, yticklabels=corr.columns.values)\n",
    "    plt.show()\n",
    "    \n",
    "continuousCorrelation(pd.concat([df_rank_test, df_rank_test_y], axis=1))"
   ]
  },
  {
   "cell_type": "markdown",
   "metadata": {},
   "source": [
    "# Modelling Portion "
   ]
  },
  {
   "cell_type": "markdown",
   "metadata": {},
   "source": [
    "Simple model creation, one Logistic Regression and a LightGBM implementation. This produced the best accuracy(95.82 %)/auc score (95%)."
   ]
  },
  {
   "cell_type": "code",
   "execution_count": null,
   "metadata": {},
   "outputs": [],
   "source": [
    "df.drop(['InstanceWeight'], axis=1, inplace=True)"
   ]
  },
  {
   "cell_type": "code",
   "execution_count": null,
   "metadata": {},
   "outputs": [],
   "source": [
    "train = df[0:train_len]\n",
    "test = df[train_len:(train_len + test_len)]"
   ]
  },
  {
   "cell_type": "code",
   "execution_count": null,
   "metadata": {},
   "outputs": [],
   "source": [
    "train_y = train['Target']\n",
    "train.drop(['Target'], axis=1, inplace=True)\n",
    "test_y = test['Target']\n",
    "test.drop(['Target'], axis=1, inplace=True)"
   ]
  },
  {
   "cell_type": "code",
   "execution_count": null,
   "metadata": {},
   "outputs": [],
   "source": [
    "from sklearn.model_selection import StratifiedKFold, cross_val_score, cross_val_predict\n",
    "from sklearn.linear_model import LogisticRegression\n",
    "from sklearn.metrics import accuracy_score, roc_auc_score"
   ]
  },
  {
   "cell_type": "code",
   "execution_count": null,
   "metadata": {},
   "outputs": [],
   "source": [
    "kf = StratifiedKFold(n_splits=10, shuffle=True, random_state=123)\n",
    "reg = LogisticRegression(solver='lbfgs', penalty='l2', max_iter=500, random_state=123)\n",
    "cross_val_score(reg, train, train_y, cv=kf)\n",
    "preds = cross_val_predict(reg, test, test_y, cv=kf)\n",
    "print('Accuracy Logistic Reg: ', (accuracy_score(preds, test_y)) * 100)\n",
    "print('AOC ROC ', roc_auc_score(test_y.values, cross_val_predict(reg, test, test_y, cv=kf, method='predict_proba')[:,1]))"
   ]
  },
  {
   "cell_type": "code",
   "execution_count": null,
   "metadata": {},
   "outputs": [],
   "source": [
    "import lightgbm as lgb\n",
    "\n",
    "def lightGBMModel(x_data, y_data, x_test, y_test):\n",
    "    # using lightgbm model to compare accuracy with normal rand forest\n",
    "    train_x, valid_x, train_y, valid_y = train_test_split(\n",
    "        x_data, y_data, test_size=0.33)\n",
    "\n",
    "    train_data = lgb.Dataset(train_x, label=train_y)\n",
    "    valid_data = lgb.Dataset(valid_x, label=valid_y)\n",
    "\n",
    "    params = {\n",
    "        'boosting_type': 'gbdt',\n",
    "        'objective': 'binary',\n",
    "#         'metric': {'l2', 'l1'},\n",
    "        'metric': 'auc',\n",
    "        'num_leaves': 31,\n",
    "        'learning_rate': 0.05,\n",
    "        'feature_fraction': 0.9,\n",
    "        'bagging_fraction': 0.8,\n",
    "        'bagging_freq': 5,\n",
    "        'verbose': 0,\n",
    "        'max_depth': 28,\n",
    "        'num_estimators': 800\n",
    "    }\n",
    "\n",
    "    print('Starting training...')\n",
    "    # train\n",
    "    gbm = lgb.train(params,\n",
    "                    train_data,\n",
    "                    num_boost_round=2000,\n",
    "                    valid_sets=valid_data,\n",
    "                    early_stopping_rounds=50)\n",
    "\n",
    "    print('Starting predicting...')\n",
    "    # predict\n",
    "    y_prob = gbm.predict(x_test.values, num_iteration=gbm.best_iteration)\n",
    "    y_pred = [round(x) for x in y_prob]\n",
    "    print('Accuracy LGBM: ', (accuracy_score(y_pred, y_test)) * 100)\n",
    "    print('AOC ROC ', roc_auc_score(y_test.values, y_prob))"
   ]
  },
  {
   "cell_type": "code",
   "execution_count": null,
   "metadata": {},
   "outputs": [],
   "source": [
    "lightGBMModel(train, train_y, test, test_y)"
   ]
  }
 ],
 "metadata": {
  "kernelspec": {
   "display_name": "Python 3",
   "language": "python",
   "name": "python3"
  },
  "language_info": {
   "codemirror_mode": {
    "name": "ipython",
    "version": 3
   },
   "file_extension": ".py",
   "mimetype": "text/x-python",
   "name": "python",
   "nbconvert_exporter": "python",
   "pygments_lexer": "ipython3",
   "version": "3.7.3"
  }
 },
 "nbformat": 4,
 "nbformat_minor": 4
}
