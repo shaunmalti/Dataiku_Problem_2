{
 "cells": [
  {
   "cell_type": "code",
   "execution_count": 706,
   "metadata": {},
   "outputs": [],
   "source": [
    "import numpy as np\n",
    "import pandas as pd\n",
    "\n",
    "import lightgbm as lgb\n",
    "import shap\n",
    "import matplotlib.pyplot as plt\n",
    "from sklearn.model_selection import train_test_split\n",
    "import seaborn as sns\n",
    "pd.set_option('display.max_columns', 50)\n",
    "pd.set_option('display.max_rows', 50)"
   ]
  },
  {
   "cell_type": "code",
   "execution_count": 707,
   "metadata": {},
   "outputs": [],
   "source": [
    "def importData():\n",
    "    train = pd.read_csv('./us_census_full/census_income_learn.csv')\n",
    "    test = pd.read_csv('./us_census_full/census_income_test.csv')\n",
    "    return train, test\n",
    "\n",
    "def explore(data):\n",
    "    summaryDf = pd.DataFrame(data.dtypes, columns=['dtypes'])\n",
    "    summaryDf = summaryDf.reset_index()\n",
    "    summaryDf['Name'] = summaryDf['index']\n",
    "    summaryDf['Missing'] = data.isnull().sum().values\n",
    "    summaryDf['Total'] = data.count().values\n",
    "    summaryDf['MissPerc'] = (summaryDf['Missing']/summaryDf['Total'])*100\n",
    "    summaryDf['NumUnique'] = data.nunique().values\n",
    "    summaryDf['UniqueVals'] = [data[col].unique() for col in data.columns]\n",
    "    print(summaryDf.head(50))\n",
    "\n",
    "\n",
    "def reduce_mem_usage(df):\n",
    "    \"\"\" iterate through all the columns of a dataframe and modify the data type\n",
    "        to reduce memory usage.\n",
    "    \"\"\"\n",
    "    start_mem = df.memory_usage().sum() / 1024 ** 2\n",
    "    print('Memory usage of dataframe is {:.2f} MB'.format(start_mem))\n",
    "\n",
    "    for col in df.columns:\n",
    "        col_type = df[col].dtype\n",
    "\n",
    "        if col_type != object:\n",
    "            c_min = df[col].min()\n",
    "            c_max = df[col].max()\n",
    "            if str(col_type)[:3] == 'int':\n",
    "                if c_min > np.iinfo(np.int8).min and c_max < np.iinfo(np.int8).max:\n",
    "                    df[col] = df[col].astype(np.int8)\n",
    "                elif c_min > np.iinfo(np.int16).min and c_max < np.iinfo(np.int16).max:\n",
    "                    df[col] = df[col].astype(np.int16)\n",
    "                elif c_min > np.iinfo(np.int32).min and c_max < np.iinfo(np.int32).max:\n",
    "                    df[col] = df[col].astype(np.int32)\n",
    "                elif c_min > np.iinfo(np.int64).min and c_max < np.iinfo(np.int64).max:\n",
    "                    df[col] = df[col].astype(np.int64)\n",
    "            else:\n",
    "                if c_min > np.finfo(np.float16).min and c_max < np.finfo(np.float16).max:\n",
    "                    df[col] = df[col].astype(np.float16)\n",
    "                elif c_min > np.finfo(np.float32).min and c_max < np.finfo(np.float32).max:\n",
    "                    df[col] = df[col].astype(np.float32)\n",
    "                else:\n",
    "                    df[col] = df[col].astype(np.float64)\n",
    "        else:\n",
    "            df[col] = df[col].astype('category')\n",
    "\n",
    "    end_mem = df.memory_usage().sum() / 1024 ** 2\n",
    "    print('Memory usage after optimization is: {:.2f} MB'.format(end_mem))\n",
    "    print('Decreased by {:.1f}%'.format(100 * (start_mem - end_mem) / start_mem))\n",
    "\n",
    "    return df\n",
    "\n",
    "\n",
    "def import_data(name):\n",
    "    \"\"\"create a dataframe and optimize its memory usage\"\"\"\n",
    "    df = pd.read_csv('us_census_full/' + name + '.csv', parse_dates=True, keep_date_col=True)\n",
    "#     df = reduce_mem_usage(df)\n",
    "    return df\n",
    "\n",
    "def shapRanking(x_data, y_data):\n",
    "    train_x, valid_x, train_y, valid_y = train_test_split(\n",
    "        x_data, y_data, test_size=0.33, random_state=42)\n",
    "\n",
    "    train_data = lgb.Dataset(train_x, label=train_y)\n",
    "    valid_data = lgb.Dataset(valid_x, label=valid_y)\n",
    "\n",
    "    # LGB parameters:\n",
    "    params = {'learning_rate': 0.05,\n",
    "              'boosting': 'gbdt',\n",
    "              'objective': 'binary',\n",
    "              'num_leaves': 2000,\n",
    "              'min_data_in_leaf': 200,\n",
    "              'max_bin': 200,\n",
    "              'max_depth': 16,\n",
    "              'seed': 2018,\n",
    "              'nthread': 10, }\n",
    "\n",
    "    # LGB training:\n",
    "    lgb_model = lgb.train(params, train_data,\n",
    "                          num_boost_round=2000,\n",
    "                          valid_sets=(valid_data,),\n",
    "                          verbose_eval=10,\n",
    "                          early_stopping_rounds=20)\n",
    "\n",
    "    explainer = shap.TreeExplainer(lgb_model).shap_values(valid_x)\n",
    "    shap.summary_plot(explainer[1], valid_x)\n",
    "    plt.show()\n",
    "\n",
    "    shap.dependence_plot('Wage', explainer[1], valid_x)\n",
    "    plt.show()"
   ]
  },
  {
   "cell_type": "code",
   "execution_count": 708,
   "metadata": {
    "scrolled": true
   },
   "outputs": [],
   "source": [
    "train = import_data('census_income_learn')\n",
    "test = import_data('census_income_test')\n",
    "\n",
    "# train_target = train['Target']\n",
    "# train.drop(['Target'], axis=1, inplace=True)\n",
    "\n",
    "# test_target = test['Target']\n",
    "# test.drop(['Target'], axis=1, inplace=True)\n",
    "\n",
    "train_len = train.shape[0]\n",
    "test_len = test.shape[0]\n",
    "df = pd.concat([train, test])"
   ]
  },
  {
   "cell_type": "code",
   "execution_count": 709,
   "metadata": {},
   "outputs": [],
   "source": [
    "#     df = df.replace([' Not in universe'], [None])\n",
    "#     df = df.replace([' ?'], [None])\n",
    "# not in universe or children in column IndustryCodeString - make the distinction, if age is <=16 therefore children\n",
    "# else not in universe\n",
    "df.drop(['IndustryCodeString', 'OccupationCodeString'], axis=1, inplace=True)\n",
    "# children group\n",
    "df.loc[(df['IndustryCode'] == 0) & (df['Age'] <= 18), 'IndustryCode'] = 52\n",
    "# people not in any industry group\n",
    "df.loc[(df['IndustryCode'] == 0) & (df['Age'] > 18) & (df['Age'] < 65), 'IndustryCode'] = 53\n",
    "# old people group\n",
    "df.loc[(df['IndustryCode'] == 0) & (df['Age'] >= 65), 'IndustryCode'] = 54"
   ]
  },
  {
   "cell_type": "code",
   "execution_count": 710,
   "metadata": {},
   "outputs": [],
   "source": [
    "# latino is classed as being from (chicano is someone from mexico) cuba, mexico, puerto rico, \n",
    "# south or central america, or other spanish culture or origin regardless of race\n",
    "# df.loc[df['HispOrig'] == ' Chicano', 'HispOrig'] = ' Mexican (Mexicano)'\n",
    "df.loc[\n",
    "    df['HispOrig'].isin([' Chicano', ' Cuban', ' Other Spanish', ' Puerto Rican', ' Central or South American', ' Mexican (Mexicano)', ' Other Spanish']),\n",
    "    'HispOrig'\n",
    "] = ' Latino'\n",
    "\n",
    "df.loc[df['HispOrig']==' Do not know', 'HispOrig'] = ' NA'"
   ]
  },
  {
   "cell_type": "code",
   "execution_count": 711,
   "metadata": {},
   "outputs": [],
   "source": [
    "df.loc[\n",
    "    (df['Education'].isin(\n",
    "    [' 7th and 8th grade', ' 10th grade', ' 11th grade', ' 9th grade', ' 12th grade no diploma']\n",
    ")) & (df['Age'] > 18), 'Education'\n",
    "] = ' High School Dropout'\n",
    "\n",
    "df.loc[\n",
    "    (df['Education'].isin(\n",
    "    [' 7th and 8th grade', ' 10th grade', ' 11th grade', ' 9th grade', ' 12th grade no diploma']\n",
    ")) & (df['Age'] <= 18), 'Education'\n",
    "] = ' High School'"
   ]
  },
  {
   "cell_type": "code",
   "execution_count": 712,
   "metadata": {},
   "outputs": [],
   "source": [
    "df.loc[(df['Education'].isin([' 5th or 6th grade', ' 1st 2nd 3rd or 4th grade'])) & (df['Age'] >= 12), 'Education'] = ' Elementary School Dropout'\n",
    "df.loc[(df['Education'].isin([' 5th or 6th grade', ' 1st 2nd 3rd or 4th grade'])) & (df['Age'] < 12), 'Education'] = ' Elementary School'"
   ]
  },
  {
   "cell_type": "code",
   "execution_count": 713,
   "metadata": {},
   "outputs": [],
   "source": [
    "df.loc[(df['Education'] == ' Less than 1st grade') & (df['Age'] > 7), 'Education'] = ' No Education'"
   ]
  },
  {
   "cell_type": "code",
   "execution_count": 714,
   "metadata": {},
   "outputs": [],
   "source": [
    "df.loc[df['HouseholdSummaryStat']==' Child under 18 ever married', 'HouseholdSummaryStat'] = ' Child under 18 never married'"
   ]
  },
  {
   "cell_type": "code",
   "execution_count": 715,
   "metadata": {},
   "outputs": [],
   "source": [
    "df.loc[df['HouseLive1Yr']==' Not in universe under 1 year old', 'HouseLive1Yr'] = ' No'"
   ]
  },
  {
   "cell_type": "code",
   "execution_count": 716,
   "metadata": {},
   "outputs": [
    {
     "data": {
      "text/plain": [
       " Not in universe    270742\n",
       " No                  24068\n",
       " Yes                  4475\n",
       "Name: LabourUnion, dtype: int64"
      ]
     },
     "execution_count": 716,
     "metadata": {},
     "output_type": "execute_result"
    }
   ],
   "source": [
    "df['LabourUnion'].value_counts()"
   ]
  },
  {
   "cell_type": "code",
   "execution_count": 717,
   "metadata": {},
   "outputs": [
    {
     "data": {
      "text/html": [
       "<div>\n",
       "<style scoped>\n",
       "    .dataframe tbody tr th:only-of-type {\n",
       "        vertical-align: middle;\n",
       "    }\n",
       "\n",
       "    .dataframe tbody tr th {\n",
       "        vertical-align: top;\n",
       "    }\n",
       "\n",
       "    .dataframe thead th {\n",
       "        text-align: right;\n",
       "    }\n",
       "</style>\n",
       "<table border=\"1\" class=\"dataframe\">\n",
       "  <thead>\n",
       "    <tr style=\"text-align: right;\">\n",
       "      <th></th>\n",
       "      <th>Age</th>\n",
       "      <th>WorkerClas</th>\n",
       "      <th>IndustryCode</th>\n",
       "      <th>OccupationCode</th>\n",
       "      <th>Education</th>\n",
       "      <th>Wage</th>\n",
       "      <th>EducationLastWk</th>\n",
       "      <th>MaritalStat</th>\n",
       "      <th>Race</th>\n",
       "      <th>HispOrig</th>\n",
       "      <th>Sex</th>\n",
       "      <th>LabourUnion</th>\n",
       "      <th>UnempReas</th>\n",
       "      <th>FullPartStat</th>\n",
       "      <th>CapGains</th>\n",
       "      <th>CapLosses</th>\n",
       "      <th>StockDiv</th>\n",
       "      <th>TaxFilerStat</th>\n",
       "      <th>PrevReg</th>\n",
       "      <th>PrevState</th>\n",
       "      <th>HouseholdFamStat</th>\n",
       "      <th>HouseholdSummaryStat</th>\n",
       "      <th>InstanceWeight</th>\n",
       "      <th>MigCodeMSA</th>\n",
       "      <th>MigCodeRegDiff</th>\n",
       "      <th>MigCodeRegSame</th>\n",
       "      <th>HouseLive1Yr</th>\n",
       "      <th>MigResSunbelt</th>\n",
       "      <th>NumWorkersEmployer</th>\n",
       "      <th>FamMembersU18</th>\n",
       "      <th>FatherBirthCountry</th>\n",
       "      <th>MotherBirthCountry</th>\n",
       "      <th>SelfBirthCountry</th>\n",
       "      <th>Cit</th>\n",
       "      <th>BusinessOwner</th>\n",
       "      <th>VeteranAdmQ</th>\n",
       "      <th>VeteranBen</th>\n",
       "      <th>WeeksWorked</th>\n",
       "      <th>Yr</th>\n",
       "      <th>Target</th>\n",
       "    </tr>\n",
       "  </thead>\n",
       "  <tbody>\n",
       "  </tbody>\n",
       "</table>\n",
       "</div>"
      ],
      "text/plain": [
       "Empty DataFrame\n",
       "Columns: [Age, WorkerClas, IndustryCode, OccupationCode, Education, Wage, EducationLastWk, MaritalStat, Race, HispOrig, Sex, LabourUnion, UnempReas, FullPartStat, CapGains, CapLosses, StockDiv, TaxFilerStat, PrevReg, PrevState, HouseholdFamStat, HouseholdSummaryStat, InstanceWeight, MigCodeMSA, MigCodeRegDiff, MigCodeRegSame, HouseLive1Yr, MigResSunbelt, NumWorkersEmployer, FamMembersU18, FatherBirthCountry, MotherBirthCountry, SelfBirthCountry, Cit, BusinessOwner, VeteranAdmQ, VeteranBen, WeeksWorked, Yr, Target]\n",
       "Index: []"
      ]
     },
     "execution_count": 717,
     "metadata": {},
     "output_type": "execute_result"
    }
   ],
   "source": [
    "df.loc[(df['LabourUnion']== ' Not in universe') & (df['Age'] < 16) & (df['Age'] > 65)]"
   ]
  },
  {
   "cell_type": "code",
   "execution_count": 718,
   "metadata": {},
   "outputs": [
    {
     "data": {
      "text/html": [
       "<div>\n",
       "<style scoped>\n",
       "    .dataframe tbody tr th:only-of-type {\n",
       "        vertical-align: middle;\n",
       "    }\n",
       "\n",
       "    .dataframe tbody tr th {\n",
       "        vertical-align: top;\n",
       "    }\n",
       "\n",
       "    .dataframe thead th {\n",
       "        text-align: right;\n",
       "    }\n",
       "</style>\n",
       "<table border=\"1\" class=\"dataframe\">\n",
       "  <thead>\n",
       "    <tr style=\"text-align: right;\">\n",
       "      <th></th>\n",
       "      <th>Age</th>\n",
       "      <th>WorkerClas</th>\n",
       "      <th>IndustryCode</th>\n",
       "      <th>OccupationCode</th>\n",
       "      <th>Education</th>\n",
       "      <th>Wage</th>\n",
       "      <th>EducationLastWk</th>\n",
       "      <th>MaritalStat</th>\n",
       "      <th>Race</th>\n",
       "      <th>HispOrig</th>\n",
       "      <th>Sex</th>\n",
       "      <th>LabourUnion</th>\n",
       "      <th>UnempReas</th>\n",
       "      <th>FullPartStat</th>\n",
       "      <th>CapGains</th>\n",
       "      <th>CapLosses</th>\n",
       "      <th>StockDiv</th>\n",
       "      <th>TaxFilerStat</th>\n",
       "      <th>PrevReg</th>\n",
       "      <th>PrevState</th>\n",
       "      <th>HouseholdFamStat</th>\n",
       "      <th>HouseholdSummaryStat</th>\n",
       "      <th>InstanceWeight</th>\n",
       "      <th>MigCodeMSA</th>\n",
       "      <th>MigCodeRegDiff</th>\n",
       "      <th>MigCodeRegSame</th>\n",
       "      <th>HouseLive1Yr</th>\n",
       "      <th>MigResSunbelt</th>\n",
       "      <th>NumWorkersEmployer</th>\n",
       "      <th>FamMembersU18</th>\n",
       "      <th>FatherBirthCountry</th>\n",
       "      <th>MotherBirthCountry</th>\n",
       "      <th>SelfBirthCountry</th>\n",
       "      <th>Cit</th>\n",
       "      <th>BusinessOwner</th>\n",
       "      <th>VeteranAdmQ</th>\n",
       "      <th>VeteranBen</th>\n",
       "      <th>WeeksWorked</th>\n",
       "      <th>Yr</th>\n",
       "      <th>Target</th>\n",
       "    </tr>\n",
       "  </thead>\n",
       "  <tbody>\n",
       "  </tbody>\n",
       "</table>\n",
       "</div>"
      ],
      "text/plain": [
       "Empty DataFrame\n",
       "Columns: [Age, WorkerClas, IndustryCode, OccupationCode, Education, Wage, EducationLastWk, MaritalStat, Race, HispOrig, Sex, LabourUnion, UnempReas, FullPartStat, CapGains, CapLosses, StockDiv, TaxFilerStat, PrevReg, PrevState, HouseholdFamStat, HouseholdSummaryStat, InstanceWeight, MigCodeMSA, MigCodeRegDiff, MigCodeRegSame, HouseLive1Yr, MigResSunbelt, NumWorkersEmployer, FamMembersU18, FatherBirthCountry, MotherBirthCountry, SelfBirthCountry, Cit, BusinessOwner, VeteranAdmQ, VeteranBen, WeeksWorked, Yr, Target]\n",
       "Index: []"
      ]
     },
     "execution_count": 718,
     "metadata": {},
     "output_type": "execute_result"
    }
   ],
   "source": [
    "df.loc[(df['LabourUnion']== ' Yes') & (df['Age'] < 16) & (df['Age'] > 65)]"
   ]
  },
  {
   "cell_type": "code",
   "execution_count": 719,
   "metadata": {},
   "outputs": [],
   "source": [
    "df.loc[(df['LabourUnion']== ' Not in universe') & (df['Age'] < 16) & (df['Age'] > 65), 'LabourUnion'] = ' No'"
   ]
  },
  {
   "cell_type": "markdown",
   "metadata": {},
   "source": [
    "From here to 280 takes all negative -50k class and removes not in universe for labour union"
   ]
  },
  {
   "cell_type": "code",
   "execution_count": 720,
   "metadata": {},
   "outputs": [],
   "source": [
    "lenNo = df.loc[(df['Target']==' - 50000.') & (df['LabourUnion']==' No')].shape[0]\n",
    "lenTot = df.loc[(df['Target']==' - 50000.') & (df['LabourUnion']!=' Not in universe')].shape[0]\n",
    "percNo = lenNo/lenTot"
   ]
  },
  {
   "cell_type": "code",
   "execution_count": 721,
   "metadata": {},
   "outputs": [],
   "source": [
    "a = df.loc[(df['Target']==' - 50000.') & (df['LabourUnion']==' Not in universe'), 'LabourUnion']"
   ]
  },
  {
   "cell_type": "code",
   "execution_count": 722,
   "metadata": {},
   "outputs": [],
   "source": [
    "df.loc[a.sample(frac=percNo).index, 'LabourUnion'] = ' No'"
   ]
  },
  {
   "cell_type": "code",
   "execution_count": 723,
   "metadata": {},
   "outputs": [],
   "source": [
    "df.loc[(df['Target']==' - 50000.') & (df['LabourUnion']==' Not in universe'), 'LabourUnion'] = ' Yes'"
   ]
  },
  {
   "cell_type": "markdown",
   "metadata": {},
   "source": [
    "Doing it now for positive class"
   ]
  },
  {
   "cell_type": "code",
   "execution_count": 724,
   "metadata": {},
   "outputs": [
    {
     "data": {
      "text/plain": [
       "0.9695971385542169"
      ]
     },
     "execution_count": 724,
     "metadata": {},
     "output_type": "execute_result"
    }
   ],
   "source": [
    "lenNopos = df.loc[(df['Target']==' 50000+.') & (df['LabourUnion']==' No')].shape[0]\n",
    "lenTotpos = df.loc[(df['Target']==' 50000+.') & (df['LabourUnion']!=' Not in universe')].shape[0]\n",
    "percNopos = lenNopos/lenTotpos\n",
    "percNopos"
   ]
  },
  {
   "cell_type": "code",
   "execution_count": 725,
   "metadata": {},
   "outputs": [],
   "source": [
    "b = df.loc[(df['Target']==' 50000+.') & (df['LabourUnion']==' Not in universe'), 'LabourUnion']\n",
    "df.loc[b.sample(frac=percNopos).index, 'LabourUnion'] = ' No'\n",
    "df.loc[(df['Target']==' 50000+.') & (df['LabourUnion']==' Not in universe'), 'LabourUnion'] = ' Yes'"
   ]
  },
  {
   "cell_type": "markdown",
   "metadata": {},
   "source": [
    "now doing it for education last week"
   ]
  },
  {
   "cell_type": "code",
   "execution_count": 726,
   "metadata": {},
   "outputs": [
    {
     "data": {
      "image/png": "[encoded data removed]",
      "text/plain": [
       "<Figure size 691.2x216 with 2 Axes>"
      ]
     },
     "metadata": {
      "needs_background": "light"
     },
     "output_type": "display_data"
    }
   ],
   "source": [
    "def weighted_hist(x, weights, **kwargs):\n",
    "    plt.hist(x, weights=weights, **kwargs)\n",
    "    plt.xticks(rotation=90)\n",
    "\n",
    "grid = sns.FacetGrid(df, col='Target', aspect=1.6)\n",
    "grid.map(weighted_hist, 'EducationLastWk', 'InstanceWeight')\n",
    "plt.show()"
   ]
  },
  {
   "cell_type": "code",
   "execution_count": 727,
   "metadata": {},
   "outputs": [],
   "source": [
    "df.drop('EducationLastWk', axis=1, inplace=True)"
   ]
  },
  {
   "cell_type": "code",
   "execution_count": 728,
   "metadata": {},
   "outputs": [
    {
     "data": {
      "image/png": "[encoded data removed]",
      "text/plain": [
       "<Figure size 691.2x216 with 2 Axes>"
      ]
     },
     "metadata": {
      "needs_background": "light"
     },
     "output_type": "display_data"
    }
   ],
   "source": [
    "grid = sns.FacetGrid(df, col='Target', aspect=1.6)\n",
    "grid.map(weighted_hist, 'WorkerClas', 'InstanceWeight')\n",
    "plt.show()"
   ]
  },
  {
   "cell_type": "code",
   "execution_count": 729,
   "metadata": {},
   "outputs": [
    {
     "data": {
      "image/png": "[encoded data removed]",
      "text/plain": [
       "<Figure size 432x288 with 1 Axes>"
      ]
     },
     "metadata": {
      "needs_background": "light"
     },
     "output_type": "display_data"
    }
   ],
   "source": [
    "from scipy import stats\n",
    "niuWCLen = df.loc[(df['WorkerClas']==' Not in universe')].shape[0]\n",
    "avgAgeWCNIU = df.loc[df['WorkerClas']==' Not in universe', 'Age']\n",
    "\n",
    "sns.distplot(avgAgeWCNIU)\n",
    "plt.show()\n",
    "# we can say that the not in universe for worker class are unemployed"
   ]
  },
  {
   "cell_type": "code",
   "execution_count": 730,
   "metadata": {},
   "outputs": [],
   "source": [
    "df.loc[(df['WorkerClas']==' Not in universe'), 'WorkerClas'] = ' Unemployed'"
   ]
  },
  {
   "cell_type": "code",
   "execution_count": 731,
   "metadata": {},
   "outputs": [
    {
     "data": {
      "text/plain": [
       " Unemployed                        150324\n",
       " Private                           108099\n",
       " Self-employed-not incorporated     12725\n",
       " Local government                   11617\n",
       " State government                    6394\n",
       " Self-employed-incorporated          4913\n",
       " Federal government                  4330\n",
       " Never worked                         643\n",
       " Without pay                          240\n",
       "Name: WorkerClas, dtype: int64"
      ]
     },
     "execution_count": 731,
     "metadata": {},
     "output_type": "execute_result"
    }
   ],
   "source": [
    "df['WorkerClas'].value_counts()"
   ]
  },
  {
   "cell_type": "code",
   "execution_count": 732,
   "metadata": {},
   "outputs": [
    {
     "data": {
      "image/png": "[encoded data removed]",
      "text/plain": [
       "<Figure size 432x288 with 1 Axes>"
      ]
     },
     "metadata": {
      "needs_background": "light"
     },
     "output_type": "display_data"
    }
   ],
   "source": [
    "# if unempreason is not in universe it implies that the person has a job\n",
    "# how can i check this? plot unempreason against weeksworked in past year\n",
    "sns.scatterplot(y='UnempReas', x='WeeksWorked', data=df)\n",
    "plt.show()\n",
    "# shows the opposite, if your unempreas is not in universe you still could have worked in the past year\n",
    "# but it could also mean you ve been unemployed recently and before were working before being made 'redundant'"
   ]
  },
  {
   "cell_type": "code",
   "execution_count": 733,
   "metadata": {},
   "outputs": [],
   "source": [
    "# assume that for unempreason not in universe means that they are employed\n",
    "df.loc[df['UnempReas']==' Not in universe', 'UnempReas'] = ' Employed'"
   ]
  },
  {
   "cell_type": "code",
   "execution_count": 734,
   "metadata": {},
   "outputs": [
    {
     "data": {
      "text/plain": [
       " Employed                 290085\n",
       " Other job loser            3146\n",
       " Re-entrant                 3043\n",
       " Job loser - on layoff      1484\n",
       " Job leaver                  884\n",
       " New entrant                 643\n",
       "Name: UnempReas, dtype: int64"
      ]
     },
     "execution_count": 734,
     "metadata": {},
     "output_type": "execute_result"
    }
   ],
   "source": [
    "df['UnempReas'].value_counts()"
   ]
  },
  {
   "cell_type": "code",
   "execution_count": 735,
   "metadata": {},
   "outputs": [
    {
     "data": {
      "text/plain": [
       " Not in universe    275818\n",
       " South                7314\n",
       " West                 6120\n",
       " Midwest              5273\n",
       " Northeast            4027\n",
       " Abroad                733\n",
       "Name: PrevReg, dtype: int64"
      ]
     },
     "execution_count": 735,
     "metadata": {},
     "output_type": "execute_result"
    }
   ],
   "source": [
    "# could also bin prevreg into nomove for not in universe and other\n",
    "df['PrevReg'].value_counts()"
   ]
  },
  {
   "cell_type": "code",
   "execution_count": 736,
   "metadata": {},
   "outputs": [],
   "source": [
    "df.loc[df['PrevReg']==' Not in universe', 'PrevReg'] = ' No movement'"
   ]
  },
  {
   "cell_type": "markdown",
   "metadata": {},
   "source": [
    "also prevreg should be discarded since more information can be found in previous state... makes sense"
   ]
  },
  {
   "cell_type": "code",
   "execution_count": 737,
   "metadata": {},
   "outputs": [
    {
     "data": {
      "image/png": "[encoded data removed]",
      "text/plain": [
       "<Figure size 691.2x216 with 2 Axes>"
      ]
     },
     "metadata": {
      "needs_background": "light"
     },
     "output_type": "display_data"
    }
   ],
   "source": [
    "grid = sns.FacetGrid(df, col='Target', aspect=1.6)\n",
    "grid.map(weighted_hist, 'PrevState', 'InstanceWeight')\n",
    "plt.show()"
   ]
  },
  {
   "cell_type": "code",
   "execution_count": 738,
   "metadata": {},
   "outputs": [
    {
     "data": {
      "text/plain": [
       "array([' Hawaii', ' Rhode Island', ' Washington'], dtype='<U15')"
      ]
     },
     "execution_count": 738,
     "metadata": {},
     "output_type": "execute_result"
    }
   ],
   "source": [
    "# what is that ? value\n",
    "allstates= np.array([\n",
    "    ' Alabama',\n",
    "    ' Alaska',\n",
    "    ' Arizona',\n",
    "    ' Arkansas',\n",
    "    ' California',\n",
    "    ' Colorado',\n",
    "    ' Connecticut',\n",
    "    ' Delaware',\n",
    "    ' Florida',\n",
    "    ' Georgia',\n",
    "    ' Hawaii',\n",
    "    ' Idaho',\n",
    "    ' Illinois',\n",
    "    ' Indiana',\n",
    "    ' Iowa',\n",
    "    ' Kansas',\n",
    "    ' Kentucky',\n",
    "    ' Louisiana',\n",
    "    ' Maine',\n",
    "    ' Maryland',\n",
    "    ' Massachusetts',\n",
    "    ' Michigan',\n",
    "    ' Minnesota',\n",
    "    ' Mississippi',\n",
    "    ' Missouri',\n",
    "    ' Montana',\n",
    "    ' Nebraska',\n",
    "    ' Nevada',\n",
    "    ' New Hampshire',\n",
    "    ' New Jersey',\n",
    "    ' New Mexico',\n",
    "    ' New York',\n",
    "    ' North Carolina',\n",
    "    ' North Dakota',\n",
    "    ' Ohio',\n",
    "    ' Oklahoma',\n",
    "    ' Oregon',\n",
    "    ' Pennsylvania',\n",
    "    ' Rhode Island',\n",
    "    ' South Carolina',\n",
    "    ' South Dakota',\n",
    "    ' Tennessee',\n",
    "    ' Texas',\n",
    "    ' Utah',\n",
    "    ' Vermont',\n",
    "    ' Virginia',\n",
    "    ' Washington',\n",
    "    ' West Virginia',\n",
    "    ' Wisconsin',\n",
    "    ' Wyoming',\n",
    "    ' Abroad'\n",
    "])\n",
    "uniquePrevState = df['PrevState'].unique()\n",
    "np.setdiff1d(allstates, uniquePrevState)"
   ]
  },
  {
   "cell_type": "code",
   "execution_count": 739,
   "metadata": {},
   "outputs": [
    {
     "data": {
      "text/plain": [
       "array([' Not in universe', ' Arkansas', ' Utah', ' Michigan',\n",
       "       ' Minnesota', ' Alaska', ' Kansas', ' Indiana', ' ?',\n",
       "       ' Massachusetts', ' New Mexico', ' Nevada', ' Tennessee',\n",
       "       ' Colorado', ' Abroad', ' Kentucky', ' California', ' Arizona',\n",
       "       ' North Carolina', ' Connecticut', ' Florida', ' Vermont',\n",
       "       ' Maryland', ' Oklahoma', ' Oregon', ' Ohio', ' South Carolina',\n",
       "       ' Texas', ' Montana', ' Wyoming', ' Georgia', ' Pennsylvania',\n",
       "       ' Iowa', ' New Hampshire', ' Missouri', ' Alabama',\n",
       "       ' North Dakota', ' New Jersey', ' Louisiana', ' West Virginia',\n",
       "       ' Delaware', ' Illinois', ' Maine', ' Wisconsin', ' New York',\n",
       "       ' Idaho', ' District of Columbia', ' South Dakota', ' Nebraska',\n",
       "       ' Virginia', ' Mississippi'], dtype=object)"
      ]
     },
     "execution_count": 739,
     "metadata": {},
     "output_type": "execute_result"
    }
   ],
   "source": [
    "df['PrevState'].unique()"
   ]
  },
  {
   "cell_type": "code",
   "execution_count": 740,
   "metadata": {},
   "outputs": [],
   "source": [
    "# see proportion of ? compared to overall length\n",
    "df.loc[df['PrevState']==' ?'].shape[0]/df.shape[0]\n",
    "# around 0.3%\n",
    "\n",
    "# US pop in 1995 was 266.6 million (1995)\n",
    "# washington population 1995 was 5.431 million \n",
    "# set ? to washington\n",
    "df.loc[df['PrevState']==' ?'].PrevReg.value_counts()\n",
    "# prevreg has northeast - rhode island and south - washington\n",
    "\n",
    "df.loc[(df['PrevState']==' ?') & (df['PrevReg']==' Northeast'), 'PrevState'] = ' Rhode Island'\n",
    "df.loc[(df['PrevState']==' ?') & (df['PrevReg']==' South'), 'PrevState'] = ' Washington'"
   ]
  },
  {
   "cell_type": "markdown",
   "metadata": {},
   "source": [
    "Over 42 million Americans\n",
    "moved in the 1-year period\n",
    "between March 1992 and\n",
    "March 1993. This amounted\n",
    "to 16.8 percent of the population 1 year old and over.\n",
    "\u0001 Most movers stay in the\n",
    "same county. In fact, about\n",
    "two-thirds of the movers\n",
    "between March 1992 and\n",
    "March 1993 (10.5 percent\n",
    "of the total population)\n",
    "made such a “local” move.\n",
    "\u0001 The “average American”\n",
    "makes 11.7 moves in a life\n",
    "\n",
    "From: https://www.census.gov/prod/1/pop/profile/95/p23-189.pdf"
   ]
  },
  {
   "cell_type": "code",
   "execution_count": 741,
   "metadata": {},
   "outputs": [],
   "source": [
    "df.loc[df['PrevState']==' Not in universe', 'PrevState'] = ' Same state'"
   ]
  },
  {
   "cell_type": "code",
   "execution_count": 742,
   "metadata": {},
   "outputs": [
    {
     "data": {
      "text/plain": [
       " ?                   149642\n",
       " Nonmover            123937\n",
       " MSA to MSA           15890\n",
       " NonMSA to nonMSA      4155\n",
       " Not in universe       2239\n",
       " MSA to nonMSA         1154\n",
       " NonMSA to MSA          910\n",
       " Not identifiable       630\n",
       " Abroad to MSA          619\n",
       " Abroad to nonMSA       109\n",
       "Name: MigCodeMSA, dtype: int64"
      ]
     },
     "execution_count": 742,
     "metadata": {},
     "output_type": "execute_result"
    }
   ],
   "source": [
    "df.MigCodeMSA.value_counts()"
   ]
  },
  {
   "cell_type": "code",
   "execution_count": 743,
   "metadata": {},
   "outputs": [],
   "source": [
    "# seems like the question marks here imply that there was no movement\n",
    "df.loc[df['MigCodeMSA'] == ' ?'].PrevState.value_counts()\n",
    "df.loc[df['MigCodeMSA'] == ' ?', 'MigCodeMSA'] = ' Nonmover'"
   ]
  },
  {
   "cell_type": "code",
   "execution_count": 744,
   "metadata": {},
   "outputs": [
    {
     "data": {
      "text/html": [
       "<div>\n",
       "<style scoped>\n",
       "    .dataframe tbody tr th:only-of-type {\n",
       "        vertical-align: middle;\n",
       "    }\n",
       "\n",
       "    .dataframe tbody tr th {\n",
       "        vertical-align: top;\n",
       "    }\n",
       "\n",
       "    .dataframe thead th {\n",
       "        text-align: right;\n",
       "    }\n",
       "</style>\n",
       "<table border=\"1\" class=\"dataframe\">\n",
       "  <thead>\n",
       "    <tr style=\"text-align: right;\">\n",
       "      <th></th>\n",
       "      <th>Age</th>\n",
       "      <th>WorkerClas</th>\n",
       "      <th>IndustryCode</th>\n",
       "      <th>OccupationCode</th>\n",
       "      <th>Education</th>\n",
       "      <th>Wage</th>\n",
       "      <th>MaritalStat</th>\n",
       "      <th>Race</th>\n",
       "      <th>HispOrig</th>\n",
       "      <th>Sex</th>\n",
       "      <th>LabourUnion</th>\n",
       "      <th>UnempReas</th>\n",
       "      <th>FullPartStat</th>\n",
       "      <th>CapGains</th>\n",
       "      <th>CapLosses</th>\n",
       "      <th>StockDiv</th>\n",
       "      <th>TaxFilerStat</th>\n",
       "      <th>PrevReg</th>\n",
       "      <th>PrevState</th>\n",
       "      <th>HouseholdFamStat</th>\n",
       "      <th>HouseholdSummaryStat</th>\n",
       "      <th>InstanceWeight</th>\n",
       "      <th>MigCodeMSA</th>\n",
       "      <th>MigCodeRegDiff</th>\n",
       "      <th>MigCodeRegSame</th>\n",
       "      <th>HouseLive1Yr</th>\n",
       "      <th>MigResSunbelt</th>\n",
       "      <th>NumWorkersEmployer</th>\n",
       "      <th>FamMembersU18</th>\n",
       "      <th>FatherBirthCountry</th>\n",
       "      <th>MotherBirthCountry</th>\n",
       "      <th>SelfBirthCountry</th>\n",
       "      <th>Cit</th>\n",
       "      <th>BusinessOwner</th>\n",
       "      <th>VeteranAdmQ</th>\n",
       "      <th>VeteranBen</th>\n",
       "      <th>WeeksWorked</th>\n",
       "      <th>Yr</th>\n",
       "      <th>Target</th>\n",
       "    </tr>\n",
       "  </thead>\n",
       "  <tbody>\n",
       "    <tr>\n",
       "      <th>0</th>\n",
       "      <td>73</td>\n",
       "      <td>Unemployed</td>\n",
       "      <td>54</td>\n",
       "      <td>0</td>\n",
       "      <td>High school graduate</td>\n",
       "      <td>0</td>\n",
       "      <td>Widowed</td>\n",
       "      <td>White</td>\n",
       "      <td>All other</td>\n",
       "      <td>Female</td>\n",
       "      <td>No</td>\n",
       "      <td>Employed</td>\n",
       "      <td>Not in labor force</td>\n",
       "      <td>0</td>\n",
       "      <td>0</td>\n",
       "      <td>0</td>\n",
       "      <td>Nonfiler</td>\n",
       "      <td>No movement</td>\n",
       "      <td>Same state</td>\n",
       "      <td>Other Rel 18+ ever marr not in subfamily</td>\n",
       "      <td>Other relative of householder</td>\n",
       "      <td>1700.09</td>\n",
       "      <td>Nonmover</td>\n",
       "      <td>?</td>\n",
       "      <td>?</td>\n",
       "      <td>No</td>\n",
       "      <td>?</td>\n",
       "      <td>0</td>\n",
       "      <td>Not in universe</td>\n",
       "      <td>United-States</td>\n",
       "      <td>United-States</td>\n",
       "      <td>United-States</td>\n",
       "      <td>Native- Born in the United States</td>\n",
       "      <td>0</td>\n",
       "      <td>Not in universe</td>\n",
       "      <td>2</td>\n",
       "      <td>0</td>\n",
       "      <td>95</td>\n",
       "      <td>- 50000.</td>\n",
       "    </tr>\n",
       "    <tr>\n",
       "      <th>1</th>\n",
       "      <td>58</td>\n",
       "      <td>Self-employed-not incorporated</td>\n",
       "      <td>4</td>\n",
       "      <td>34</td>\n",
       "      <td>Some college but no degree</td>\n",
       "      <td>0</td>\n",
       "      <td>Divorced</td>\n",
       "      <td>White</td>\n",
       "      <td>All other</td>\n",
       "      <td>Male</td>\n",
       "      <td>No</td>\n",
       "      <td>Employed</td>\n",
       "      <td>Children or Armed Forces</td>\n",
       "      <td>0</td>\n",
       "      <td>0</td>\n",
       "      <td>0</td>\n",
       "      <td>Head of household</td>\n",
       "      <td>South</td>\n",
       "      <td>Arkansas</td>\n",
       "      <td>Householder</td>\n",
       "      <td>Householder</td>\n",
       "      <td>1053.55</td>\n",
       "      <td>MSA to MSA</td>\n",
       "      <td>Same county</td>\n",
       "      <td>Same county</td>\n",
       "      <td>No</td>\n",
       "      <td>Yes</td>\n",
       "      <td>1</td>\n",
       "      <td>Not in universe</td>\n",
       "      <td>United-States</td>\n",
       "      <td>United-States</td>\n",
       "      <td>United-States</td>\n",
       "      <td>Native- Born in the United States</td>\n",
       "      <td>0</td>\n",
       "      <td>Not in universe</td>\n",
       "      <td>2</td>\n",
       "      <td>52</td>\n",
       "      <td>94</td>\n",
       "      <td>- 50000.</td>\n",
       "    </tr>\n",
       "    <tr>\n",
       "      <th>2</th>\n",
       "      <td>18</td>\n",
       "      <td>Unemployed</td>\n",
       "      <td>52</td>\n",
       "      <td>0</td>\n",
       "      <td>High School</td>\n",
       "      <td>0</td>\n",
       "      <td>Never married</td>\n",
       "      <td>Asian or Pacific Islander</td>\n",
       "      <td>All other</td>\n",
       "      <td>Female</td>\n",
       "      <td>No</td>\n",
       "      <td>Employed</td>\n",
       "      <td>Not in labor force</td>\n",
       "      <td>0</td>\n",
       "      <td>0</td>\n",
       "      <td>0</td>\n",
       "      <td>Nonfiler</td>\n",
       "      <td>No movement</td>\n",
       "      <td>Same state</td>\n",
       "      <td>Child 18+ never marr Not in a subfamily</td>\n",
       "      <td>Child 18 or older</td>\n",
       "      <td>991.95</td>\n",
       "      <td>Nonmover</td>\n",
       "      <td>?</td>\n",
       "      <td>?</td>\n",
       "      <td>No</td>\n",
       "      <td>?</td>\n",
       "      <td>0</td>\n",
       "      <td>Not in universe</td>\n",
       "      <td>Vietnam</td>\n",
       "      <td>Vietnam</td>\n",
       "      <td>Vietnam</td>\n",
       "      <td>Foreign born- Not a citizen of U S</td>\n",
       "      <td>0</td>\n",
       "      <td>Not in universe</td>\n",
       "      <td>2</td>\n",
       "      <td>0</td>\n",
       "      <td>95</td>\n",
       "      <td>- 50000.</td>\n",
       "    </tr>\n",
       "    <tr>\n",
       "      <th>3</th>\n",
       "      <td>9</td>\n",
       "      <td>Unemployed</td>\n",
       "      <td>52</td>\n",
       "      <td>0</td>\n",
       "      <td>Children</td>\n",
       "      <td>0</td>\n",
       "      <td>Never married</td>\n",
       "      <td>White</td>\n",
       "      <td>All other</td>\n",
       "      <td>Female</td>\n",
       "      <td>No</td>\n",
       "      <td>Employed</td>\n",
       "      <td>Children or Armed Forces</td>\n",
       "      <td>0</td>\n",
       "      <td>0</td>\n",
       "      <td>0</td>\n",
       "      <td>Nonfiler</td>\n",
       "      <td>No movement</td>\n",
       "      <td>Same state</td>\n",
       "      <td>Child &lt;18 never marr not in subfamily</td>\n",
       "      <td>Child under 18 never married</td>\n",
       "      <td>1758.14</td>\n",
       "      <td>Nonmover</td>\n",
       "      <td>Nonmover</td>\n",
       "      <td>Nonmover</td>\n",
       "      <td>Yes</td>\n",
       "      <td>Not in universe</td>\n",
       "      <td>0</td>\n",
       "      <td>Both parents present</td>\n",
       "      <td>United-States</td>\n",
       "      <td>United-States</td>\n",
       "      <td>United-States</td>\n",
       "      <td>Native- Born in the United States</td>\n",
       "      <td>0</td>\n",
       "      <td>Not in universe</td>\n",
       "      <td>0</td>\n",
       "      <td>0</td>\n",
       "      <td>94</td>\n",
       "      <td>- 50000.</td>\n",
       "    </tr>\n",
       "    <tr>\n",
       "      <th>4</th>\n",
       "      <td>10</td>\n",
       "      <td>Unemployed</td>\n",
       "      <td>52</td>\n",
       "      <td>0</td>\n",
       "      <td>Children</td>\n",
       "      <td>0</td>\n",
       "      <td>Never married</td>\n",
       "      <td>White</td>\n",
       "      <td>All other</td>\n",
       "      <td>Female</td>\n",
       "      <td>No</td>\n",
       "      <td>Employed</td>\n",
       "      <td>Children or Armed Forces</td>\n",
       "      <td>0</td>\n",
       "      <td>0</td>\n",
       "      <td>0</td>\n",
       "      <td>Nonfiler</td>\n",
       "      <td>No movement</td>\n",
       "      <td>Same state</td>\n",
       "      <td>Child &lt;18 never marr not in subfamily</td>\n",
       "      <td>Child under 18 never married</td>\n",
       "      <td>1069.16</td>\n",
       "      <td>Nonmover</td>\n",
       "      <td>Nonmover</td>\n",
       "      <td>Nonmover</td>\n",
       "      <td>Yes</td>\n",
       "      <td>Not in universe</td>\n",
       "      <td>0</td>\n",
       "      <td>Both parents present</td>\n",
       "      <td>United-States</td>\n",
       "      <td>United-States</td>\n",
       "      <td>United-States</td>\n",
       "      <td>Native- Born in the United States</td>\n",
       "      <td>0</td>\n",
       "      <td>Not in universe</td>\n",
       "      <td>0</td>\n",
       "      <td>0</td>\n",
       "      <td>94</td>\n",
       "      <td>- 50000.</td>\n",
       "    </tr>\n",
       "    <tr>\n",
       "      <th>...</th>\n",
       "      <td>...</td>\n",
       "      <td>...</td>\n",
       "      <td>...</td>\n",
       "      <td>...</td>\n",
       "      <td>...</td>\n",
       "      <td>...</td>\n",
       "      <td>...</td>\n",
       "      <td>...</td>\n",
       "      <td>...</td>\n",
       "      <td>...</td>\n",
       "      <td>...</td>\n",
       "      <td>...</td>\n",
       "      <td>...</td>\n",
       "      <td>...</td>\n",
       "      <td>...</td>\n",
       "      <td>...</td>\n",
       "      <td>...</td>\n",
       "      <td>...</td>\n",
       "      <td>...</td>\n",
       "      <td>...</td>\n",
       "      <td>...</td>\n",
       "      <td>...</td>\n",
       "      <td>...</td>\n",
       "      <td>...</td>\n",
       "      <td>...</td>\n",
       "      <td>...</td>\n",
       "      <td>...</td>\n",
       "      <td>...</td>\n",
       "      <td>...</td>\n",
       "      <td>...</td>\n",
       "      <td>...</td>\n",
       "      <td>...</td>\n",
       "      <td>...</td>\n",
       "      <td>...</td>\n",
       "      <td>...</td>\n",
       "      <td>...</td>\n",
       "      <td>...</td>\n",
       "      <td>...</td>\n",
       "      <td>...</td>\n",
       "    </tr>\n",
       "    <tr>\n",
       "      <th>99757</th>\n",
       "      <td>14</td>\n",
       "      <td>Unemployed</td>\n",
       "      <td>52</td>\n",
       "      <td>0</td>\n",
       "      <td>Children</td>\n",
       "      <td>0</td>\n",
       "      <td>Never married</td>\n",
       "      <td>White</td>\n",
       "      <td>All other</td>\n",
       "      <td>Female</td>\n",
       "      <td>No</td>\n",
       "      <td>Employed</td>\n",
       "      <td>Children or Armed Forces</td>\n",
       "      <td>0</td>\n",
       "      <td>0</td>\n",
       "      <td>0</td>\n",
       "      <td>Nonfiler</td>\n",
       "      <td>No movement</td>\n",
       "      <td>Same state</td>\n",
       "      <td>Child &lt;18 never marr not in subfamily</td>\n",
       "      <td>Child under 18 never married</td>\n",
       "      <td>1708.85</td>\n",
       "      <td>Nonmover</td>\n",
       "      <td>?</td>\n",
       "      <td>?</td>\n",
       "      <td>No</td>\n",
       "      <td>?</td>\n",
       "      <td>0</td>\n",
       "      <td>Both parents present</td>\n",
       "      <td>United-States</td>\n",
       "      <td>United-States</td>\n",
       "      <td>United-States</td>\n",
       "      <td>Native- Born in the United States</td>\n",
       "      <td>0</td>\n",
       "      <td>Not in universe</td>\n",
       "      <td>0</td>\n",
       "      <td>0</td>\n",
       "      <td>95</td>\n",
       "      <td>- 50000.</td>\n",
       "    </tr>\n",
       "    <tr>\n",
       "      <th>99758</th>\n",
       "      <td>61</td>\n",
       "      <td>Private</td>\n",
       "      <td>8</td>\n",
       "      <td>36</td>\n",
       "      <td>High School Dropout</td>\n",
       "      <td>0</td>\n",
       "      <td>Separated</td>\n",
       "      <td>Black</td>\n",
       "      <td>All other</td>\n",
       "      <td>Male</td>\n",
       "      <td>No</td>\n",
       "      <td>Employed</td>\n",
       "      <td>Full-time schedules</td>\n",
       "      <td>0</td>\n",
       "      <td>0</td>\n",
       "      <td>0</td>\n",
       "      <td>Single</td>\n",
       "      <td>No movement</td>\n",
       "      <td>Same state</td>\n",
       "      <td>Nonfamily householder</td>\n",
       "      <td>Householder</td>\n",
       "      <td>2511.11</td>\n",
       "      <td>Nonmover</td>\n",
       "      <td>?</td>\n",
       "      <td>?</td>\n",
       "      <td>No</td>\n",
       "      <td>?</td>\n",
       "      <td>4</td>\n",
       "      <td>Not in universe</td>\n",
       "      <td>United-States</td>\n",
       "      <td>United-States</td>\n",
       "      <td>United-States</td>\n",
       "      <td>Native- Born in the United States</td>\n",
       "      <td>0</td>\n",
       "      <td>Not in universe</td>\n",
       "      <td>2</td>\n",
       "      <td>52</td>\n",
       "      <td>95</td>\n",
       "      <td>- 50000.</td>\n",
       "    </tr>\n",
       "    <tr>\n",
       "      <th>99759</th>\n",
       "      <td>24</td>\n",
       "      <td>Self-employed-not incorporated</td>\n",
       "      <td>1</td>\n",
       "      <td>43</td>\n",
       "      <td>High School Dropout</td>\n",
       "      <td>0</td>\n",
       "      <td>Married-civilian spouse present</td>\n",
       "      <td>White</td>\n",
       "      <td>Latino</td>\n",
       "      <td>Male</td>\n",
       "      <td>No</td>\n",
       "      <td>Employed</td>\n",
       "      <td>Children or Armed Forces</td>\n",
       "      <td>0</td>\n",
       "      <td>0</td>\n",
       "      <td>0</td>\n",
       "      <td>Joint both under 65</td>\n",
       "      <td>No movement</td>\n",
       "      <td>Same state</td>\n",
       "      <td>Spouse of RP of unrelated subfamily</td>\n",
       "      <td>Nonrelative of householder</td>\n",
       "      <td>2083.76</td>\n",
       "      <td>Nonmover</td>\n",
       "      <td>Nonmover</td>\n",
       "      <td>Nonmover</td>\n",
       "      <td>Yes</td>\n",
       "      <td>Not in universe</td>\n",
       "      <td>2</td>\n",
       "      <td>Not in universe</td>\n",
       "      <td>Mexico</td>\n",
       "      <td>Mexico</td>\n",
       "      <td>Mexico</td>\n",
       "      <td>Foreign born- U S citizen by naturalization</td>\n",
       "      <td>0</td>\n",
       "      <td>Not in universe</td>\n",
       "      <td>2</td>\n",
       "      <td>52</td>\n",
       "      <td>94</td>\n",
       "      <td>- 50000.</td>\n",
       "    </tr>\n",
       "    <tr>\n",
       "      <th>99760</th>\n",
       "      <td>30</td>\n",
       "      <td>Private</td>\n",
       "      <td>45</td>\n",
       "      <td>2</td>\n",
       "      <td>Bachelors degree(BA AB BS)</td>\n",
       "      <td>0</td>\n",
       "      <td>Married-civilian spouse present</td>\n",
       "      <td>White</td>\n",
       "      <td>All other</td>\n",
       "      <td>Female</td>\n",
       "      <td>No</td>\n",
       "      <td>Employed</td>\n",
       "      <td>Full-time schedules</td>\n",
       "      <td>0</td>\n",
       "      <td>0</td>\n",
       "      <td>0</td>\n",
       "      <td>Joint both under 65</td>\n",
       "      <td>No movement</td>\n",
       "      <td>Same state</td>\n",
       "      <td>Spouse of householder</td>\n",
       "      <td>Spouse of householder</td>\n",
       "      <td>1680.06</td>\n",
       "      <td>Nonmover</td>\n",
       "      <td>?</td>\n",
       "      <td>?</td>\n",
       "      <td>No</td>\n",
       "      <td>?</td>\n",
       "      <td>5</td>\n",
       "      <td>Not in universe</td>\n",
       "      <td>United-States</td>\n",
       "      <td>United-States</td>\n",
       "      <td>United-States</td>\n",
       "      <td>Native- Born in the United States</td>\n",
       "      <td>0</td>\n",
       "      <td>Not in universe</td>\n",
       "      <td>2</td>\n",
       "      <td>52</td>\n",
       "      <td>95</td>\n",
       "      <td>- 50000.</td>\n",
       "    </tr>\n",
       "    <tr>\n",
       "      <th>99761</th>\n",
       "      <td>67</td>\n",
       "      <td>Unemployed</td>\n",
       "      <td>54</td>\n",
       "      <td>0</td>\n",
       "      <td>High School Dropout</td>\n",
       "      <td>0</td>\n",
       "      <td>Married-civilian spouse present</td>\n",
       "      <td>White</td>\n",
       "      <td>All other</td>\n",
       "      <td>Male</td>\n",
       "      <td>No</td>\n",
       "      <td>Employed</td>\n",
       "      <td>Children or Armed Forces</td>\n",
       "      <td>0</td>\n",
       "      <td>0</td>\n",
       "      <td>0</td>\n",
       "      <td>Joint both 65+</td>\n",
       "      <td>No movement</td>\n",
       "      <td>Same state</td>\n",
       "      <td>Householder</td>\n",
       "      <td>Householder</td>\n",
       "      <td>1582.48</td>\n",
       "      <td>Nonmover</td>\n",
       "      <td>Nonmover</td>\n",
       "      <td>Nonmover</td>\n",
       "      <td>Yes</td>\n",
       "      <td>Not in universe</td>\n",
       "      <td>0</td>\n",
       "      <td>Not in universe</td>\n",
       "      <td>United-States</td>\n",
       "      <td>United-States</td>\n",
       "      <td>United-States</td>\n",
       "      <td>Native- Born in the United States</td>\n",
       "      <td>0</td>\n",
       "      <td>Not in universe</td>\n",
       "      <td>2</td>\n",
       "      <td>0</td>\n",
       "      <td>94</td>\n",
       "      <td>- 50000.</td>\n",
       "    </tr>\n",
       "  </tbody>\n",
       "</table>\n",
       "<p>299285 rows × 39 columns</p>\n",
       "</div>"
      ],
      "text/plain": [
       "       Age                       WorkerClas  IndustryCode  OccupationCode  \\\n",
       "0       73                       Unemployed            54               0   \n",
       "1       58   Self-employed-not incorporated             4              34   \n",
       "2       18                       Unemployed            52               0   \n",
       "3        9                       Unemployed            52               0   \n",
       "4       10                       Unemployed            52               0   \n",
       "...    ...                              ...           ...             ...   \n",
       "99757   14                       Unemployed            52               0   \n",
       "99758   61                          Private             8              36   \n",
       "99759   24   Self-employed-not incorporated             1              43   \n",
       "99760   30                          Private            45               2   \n",
       "99761   67                       Unemployed            54               0   \n",
       "\n",
       "                         Education  Wage                       MaritalStat  \\\n",
       "0             High school graduate     0                           Widowed   \n",
       "1       Some college but no degree     0                          Divorced   \n",
       "2                      High School     0                     Never married   \n",
       "3                         Children     0                     Never married   \n",
       "4                         Children     0                     Never married   \n",
       "...                            ...   ...                               ...   \n",
       "99757                     Children     0                     Never married   \n",
       "99758          High School Dropout     0                         Separated   \n",
       "99759          High School Dropout     0   Married-civilian spouse present   \n",
       "99760   Bachelors degree(BA AB BS)     0   Married-civilian spouse present   \n",
       "99761          High School Dropout     0   Married-civilian spouse present   \n",
       "\n",
       "                             Race    HispOrig      Sex LabourUnion  UnempReas  \\\n",
       "0                           White   All other   Female          No   Employed   \n",
       "1                           White   All other     Male          No   Employed   \n",
       "2       Asian or Pacific Islander   All other   Female          No   Employed   \n",
       "3                           White   All other   Female          No   Employed   \n",
       "4                           White   All other   Female          No   Employed   \n",
       "...                           ...         ...      ...         ...        ...   \n",
       "99757                       White   All other   Female          No   Employed   \n",
       "99758                       Black   All other     Male          No   Employed   \n",
       "99759                       White      Latino     Male          No   Employed   \n",
       "99760                       White   All other   Female          No   Employed   \n",
       "99761                       White   All other     Male          No   Employed   \n",
       "\n",
       "                    FullPartStat  CapGains  CapLosses  StockDiv  \\\n",
       "0             Not in labor force         0          0         0   \n",
       "1       Children or Armed Forces         0          0         0   \n",
       "2             Not in labor force         0          0         0   \n",
       "3       Children or Armed Forces         0          0         0   \n",
       "4       Children or Armed Forces         0          0         0   \n",
       "...                          ...       ...        ...       ...   \n",
       "99757   Children or Armed Forces         0          0         0   \n",
       "99758        Full-time schedules         0          0         0   \n",
       "99759   Children or Armed Forces         0          0         0   \n",
       "99760        Full-time schedules         0          0         0   \n",
       "99761   Children or Armed Forces         0          0         0   \n",
       "\n",
       "               TaxFilerStat       PrevReg    PrevState  \\\n",
       "0                  Nonfiler   No movement   Same state   \n",
       "1         Head of household         South     Arkansas   \n",
       "2                  Nonfiler   No movement   Same state   \n",
       "3                  Nonfiler   No movement   Same state   \n",
       "4                  Nonfiler   No movement   Same state   \n",
       "...                     ...           ...          ...   \n",
       "99757              Nonfiler   No movement   Same state   \n",
       "99758                Single   No movement   Same state   \n",
       "99759   Joint both under 65   No movement   Same state   \n",
       "99760   Joint both under 65   No movement   Same state   \n",
       "99761        Joint both 65+   No movement   Same state   \n",
       "\n",
       "                                HouseholdFamStat  \\\n",
       "0       Other Rel 18+ ever marr not in subfamily   \n",
       "1                                    Householder   \n",
       "2        Child 18+ never marr Not in a subfamily   \n",
       "3          Child <18 never marr not in subfamily   \n",
       "4          Child <18 never marr not in subfamily   \n",
       "...                                          ...   \n",
       "99757      Child <18 never marr not in subfamily   \n",
       "99758                      Nonfamily householder   \n",
       "99759        Spouse of RP of unrelated subfamily   \n",
       "99760                      Spouse of householder   \n",
       "99761                                Householder   \n",
       "\n",
       "                 HouseholdSummaryStat  InstanceWeight   MigCodeMSA  \\\n",
       "0       Other relative of householder         1700.09     Nonmover   \n",
       "1                         Householder         1053.55   MSA to MSA   \n",
       "2                   Child 18 or older          991.95     Nonmover   \n",
       "3        Child under 18 never married         1758.14     Nonmover   \n",
       "4        Child under 18 never married         1069.16     Nonmover   \n",
       "...                               ...             ...          ...   \n",
       "99757    Child under 18 never married         1708.85     Nonmover   \n",
       "99758                     Householder         2511.11     Nonmover   \n",
       "99759      Nonrelative of householder         2083.76     Nonmover   \n",
       "99760           Spouse of householder         1680.06     Nonmover   \n",
       "99761                     Householder         1582.48     Nonmover   \n",
       "\n",
       "      MigCodeRegDiff MigCodeRegSame HouseLive1Yr     MigResSunbelt  \\\n",
       "0                  ?              ?           No                 ?   \n",
       "1        Same county    Same county           No               Yes   \n",
       "2                  ?              ?           No                 ?   \n",
       "3           Nonmover       Nonmover          Yes   Not in universe   \n",
       "4           Nonmover       Nonmover          Yes   Not in universe   \n",
       "...              ...            ...          ...               ...   \n",
       "99757              ?              ?           No                 ?   \n",
       "99758              ?              ?           No                 ?   \n",
       "99759       Nonmover       Nonmover          Yes   Not in universe   \n",
       "99760              ?              ?           No                 ?   \n",
       "99761       Nonmover       Nonmover          Yes   Not in universe   \n",
       "\n",
       "       NumWorkersEmployer          FamMembersU18 FatherBirthCountry  \\\n",
       "0                       0        Not in universe      United-States   \n",
       "1                       1        Not in universe      United-States   \n",
       "2                       0        Not in universe            Vietnam   \n",
       "3                       0   Both parents present      United-States   \n",
       "4                       0   Both parents present      United-States   \n",
       "...                   ...                    ...                ...   \n",
       "99757                   0   Both parents present      United-States   \n",
       "99758                   4        Not in universe      United-States   \n",
       "99759                   2        Not in universe             Mexico   \n",
       "99760                   5        Not in universe      United-States   \n",
       "99761                   0        Not in universe      United-States   \n",
       "\n",
       "      MotherBirthCountry SelfBirthCountry  \\\n",
       "0          United-States    United-States   \n",
       "1          United-States    United-States   \n",
       "2                Vietnam          Vietnam   \n",
       "3          United-States    United-States   \n",
       "4          United-States    United-States   \n",
       "...                  ...              ...   \n",
       "99757      United-States    United-States   \n",
       "99758      United-States    United-States   \n",
       "99759             Mexico           Mexico   \n",
       "99760      United-States    United-States   \n",
       "99761      United-States    United-States   \n",
       "\n",
       "                                                Cit  BusinessOwner  \\\n",
       "0                 Native- Born in the United States              0   \n",
       "1                 Native- Born in the United States              0   \n",
       "2               Foreign born- Not a citizen of U S               0   \n",
       "3                 Native- Born in the United States              0   \n",
       "4                 Native- Born in the United States              0   \n",
       "...                                             ...            ...   \n",
       "99757             Native- Born in the United States              0   \n",
       "99758             Native- Born in the United States              0   \n",
       "99759   Foreign born- U S citizen by naturalization              0   \n",
       "99760             Native- Born in the United States              0   \n",
       "99761             Native- Born in the United States              0   \n",
       "\n",
       "            VeteranAdmQ  VeteranBen  WeeksWorked  Yr     Target  \n",
       "0       Not in universe           2            0  95   - 50000.  \n",
       "1       Not in universe           2           52  94   - 50000.  \n",
       "2       Not in universe           2            0  95   - 50000.  \n",
       "3       Not in universe           0            0  94   - 50000.  \n",
       "4       Not in universe           0            0  94   - 50000.  \n",
       "...                 ...         ...          ...  ..        ...  \n",
       "99757   Not in universe           0            0  95   - 50000.  \n",
       "99758   Not in universe           2           52  95   - 50000.  \n",
       "99759   Not in universe           2           52  94   - 50000.  \n",
       "99760   Not in universe           2           52  95   - 50000.  \n",
       "99761   Not in universe           2            0  94   - 50000.  \n",
       "\n",
       "[299285 rows x 39 columns]"
      ]
     },
     "execution_count": 744,
     "metadata": {},
     "output_type": "execute_result"
    }
   ],
   "source": [
    "df"
   ]
  },
  {
   "cell_type": "code",
   "execution_count": 745,
   "metadata": {},
   "outputs": [],
   "source": [
    "df['MigCodeRegDiff'].value_counts()\n",
    "df.loc[df['MigCodeRegDiff']==' ?', 'MigCodeRegDiff'] = ' Nonmover'"
   ]
  },
  {
   "cell_type": "code",
   "execution_count": 746,
   "metadata": {},
   "outputs": [],
   "source": [
    "df.loc[df['MigCodeRegSame']== ' ?', 'MigCodeRegSame'] = ' Nonmover'"
   ]
  },
  {
   "cell_type": "code",
   "execution_count": 747,
   "metadata": {},
   "outputs": [
    {
     "data": {
      "text/plain": [
       " Nonmover            273579\n",
       " MSA to MSA           15890\n",
       " NonMSA to nonMSA      4155\n",
       " Not in universe       2239\n",
       " MSA to nonMSA         1154\n",
       " NonMSA to MSA          910\n",
       " Not identifiable       630\n",
       " Abroad to MSA          619\n",
       " Abroad to nonMSA       109\n",
       "Name: MigCodeMSA, dtype: int64"
      ]
     },
     "execution_count": 747,
     "metadata": {},
     "output_type": "execute_result"
    }
   ],
   "source": [
    "df['MigCodeMSA'].value_counts()"
   ]
  },
  {
   "cell_type": "code",
   "execution_count": 748,
   "metadata": {},
   "outputs": [
    {
     "data": {
      "text/plain": [
       " Nonfiler                        2237\n",
       " Joint one under 65 & one 65+       1\n",
       " Joint both under 65                1\n",
       "Name: TaxFilerStat, dtype: int64"
      ]
     },
     "execution_count": 748,
     "metadata": {},
     "output_type": "execute_result"
    }
   ],
   "source": [
    "df.loc[df['MigCodeMSA']==' Not in universe'].TaxFilerStat.value_counts()"
   ]
  },
  {
   "cell_type": "code",
   "execution_count": 749,
   "metadata": {},
   "outputs": [],
   "source": [
    "# migcodemsa - age is 0 for all, therefore set as nonmover\n",
    "df.loc[df['MigCodeMSA']==' Not in universe', 'MigCodeMSA'] = ' Nonmover'\n",
    "df.loc[df['MigCodeRegDiff']==' Not in universe', 'MigCodeRegDiff'] = ' Nonmover'\n",
    "df.loc[df['MigCodeRegSame']==' Not in universe', 'MigCodeRegSame'] = ' Nonmover'"
   ]
  },
  {
   "cell_type": "code",
   "execution_count": 750,
   "metadata": {},
   "outputs": [
    {
     "data": {
      "image/png": "[encoded data removed]",
      "text/plain": [
       "<Figure size 691.2x216 with 2 Axes>"
      ]
     },
     "metadata": {
      "needs_background": "light"
     },
     "output_type": "display_data"
    }
   ],
   "source": [
    "df['MigResSunbelt'].value_counts()\n",
    "\n",
    "grid = sns.FacetGrid(df, col='Target', aspect=1.6)\n",
    "grid.map(weighted_hist, 'MigResSunbelt', 'InstanceWeight')\n",
    "plt.show()"
   ]
  },
  {
   "cell_type": "code",
   "execution_count": 751,
   "metadata": {},
   "outputs": [
    {
     "data": {
      "text/plain": [
       " ?                  139772\n",
       " Not in universe    118425\n",
       " No                  14146\n",
       " Yes                  8374\n",
       "Name: MigResSunbelt, dtype: int64"
      ]
     },
     "execution_count": 751,
     "metadata": {},
     "output_type": "execute_result"
    }
   ],
   "source": [
    "df.loc[(df['Target']==' - 50000.'),'MigResSunbelt'].value_counts()"
   ]
  },
  {
   "cell_type": "code",
   "execution_count": 752,
   "metadata": {},
   "outputs": [
    {
     "data": {
      "text/plain": [
       " ?                  9870\n",
       " Not in universe    7751\n",
       " No                  652\n",
       " Yes                 295\n",
       "Name: MigResSunbelt, dtype: int64"
      ]
     },
     "execution_count": 752,
     "metadata": {},
     "output_type": "execute_result"
    }
   ],
   "source": [
    "df.loc[(df['Target']==' 50000+.'),'MigResSunbelt'].value_counts()"
   ]
  },
  {
   "cell_type": "code",
   "execution_count": 753,
   "metadata": {},
   "outputs": [
    {
     "data": {
      "text/plain": [
       " ?    149642\n",
       "Name: MigResSunbelt, dtype: int64"
      ]
     },
     "execution_count": 753,
     "metadata": {},
     "output_type": "execute_result"
    }
   ],
   "source": [
    "# df.loc[(df['Target']==' 50000+.') & (df['MigResSunbelt']==' ?'), 'MigCodeMSA'].value_counts()\n",
    "df.loc[(df['MigResSunbelt']==' ?'), 'MigResSunbelt'].value_counts()"
   ]
  },
  {
   "cell_type": "code",
   "execution_count": 754,
   "metadata": {},
   "outputs": [],
   "source": [
    "# cant find any info regarding migressunbelt... dropping\n",
    "df.drop('MigResSunbelt', axis=1, inplace=True)"
   ]
  },
  {
   "cell_type": "code",
   "execution_count": 755,
   "metadata": {},
   "outputs": [
    {
     "data": {
      "image/png": "[encoded data removed]",
      "text/plain": [
       "<Figure size 691.2x216 with 2 Axes>"
      ]
     },
     "metadata": {
      "needs_background": "light"
     },
     "output_type": "display_data"
    }
   ],
   "source": [
    "grid = sns.FacetGrid(df, col='Target', aspect=1.6)\n",
    "grid.map(weighted_hist, 'FamMembersU18', 'InstanceWeight', bins=np.arange(0,df['FamMembersU18'].nunique())-0.5)\n",
    "plt.show()"
   ]
  },
  {
   "cell_type": "code",
   "execution_count": 756,
   "metadata": {},
   "outputs": [],
   "source": [
    "df.loc[(df['FamMembersU18']==' Not in universe')]\n",
    "df.drop('FamMembersU18', axis=1, inplace=True)"
   ]
  },
  {
   "cell_type": "code",
   "execution_count": 757,
   "metadata": {},
   "outputs": [
    {
     "data": {
      "text/html": [
       "<div>\n",
       "<style scoped>\n",
       "    .dataframe tbody tr th:only-of-type {\n",
       "        vertical-align: middle;\n",
       "    }\n",
       "\n",
       "    .dataframe tbody tr th {\n",
       "        vertical-align: top;\n",
       "    }\n",
       "\n",
       "    .dataframe thead th {\n",
       "        text-align: right;\n",
       "    }\n",
       "</style>\n",
       "<table border=\"1\" class=\"dataframe\">\n",
       "  <thead>\n",
       "    <tr style=\"text-align: right;\">\n",
       "      <th></th>\n",
       "      <th>Age</th>\n",
       "      <th>WorkerClas</th>\n",
       "      <th>IndustryCode</th>\n",
       "      <th>OccupationCode</th>\n",
       "      <th>Education</th>\n",
       "      <th>Wage</th>\n",
       "      <th>MaritalStat</th>\n",
       "      <th>Race</th>\n",
       "      <th>HispOrig</th>\n",
       "      <th>Sex</th>\n",
       "      <th>LabourUnion</th>\n",
       "      <th>UnempReas</th>\n",
       "      <th>FullPartStat</th>\n",
       "      <th>CapGains</th>\n",
       "      <th>CapLosses</th>\n",
       "      <th>StockDiv</th>\n",
       "      <th>TaxFilerStat</th>\n",
       "      <th>PrevReg</th>\n",
       "      <th>PrevState</th>\n",
       "      <th>HouseholdFamStat</th>\n",
       "      <th>HouseholdSummaryStat</th>\n",
       "      <th>InstanceWeight</th>\n",
       "      <th>MigCodeMSA</th>\n",
       "      <th>MigCodeRegDiff</th>\n",
       "      <th>MigCodeRegSame</th>\n",
       "      <th>HouseLive1Yr</th>\n",
       "      <th>NumWorkersEmployer</th>\n",
       "      <th>FatherBirthCountry</th>\n",
       "      <th>MotherBirthCountry</th>\n",
       "      <th>SelfBirthCountry</th>\n",
       "      <th>Cit</th>\n",
       "      <th>BusinessOwner</th>\n",
       "      <th>VeteranAdmQ</th>\n",
       "      <th>VeteranBen</th>\n",
       "      <th>WeeksWorked</th>\n",
       "      <th>Yr</th>\n",
       "      <th>Target</th>\n",
       "    </tr>\n",
       "  </thead>\n",
       "  <tbody>\n",
       "    <tr>\n",
       "      <th>0</th>\n",
       "      <td>73</td>\n",
       "      <td>Unemployed</td>\n",
       "      <td>54</td>\n",
       "      <td>0</td>\n",
       "      <td>High school graduate</td>\n",
       "      <td>0</td>\n",
       "      <td>Widowed</td>\n",
       "      <td>White</td>\n",
       "      <td>All other</td>\n",
       "      <td>Female</td>\n",
       "      <td>No</td>\n",
       "      <td>Employed</td>\n",
       "      <td>Not in labor force</td>\n",
       "      <td>0</td>\n",
       "      <td>0</td>\n",
       "      <td>0</td>\n",
       "      <td>Nonfiler</td>\n",
       "      <td>No movement</td>\n",
       "      <td>Same state</td>\n",
       "      <td>Other Rel 18+ ever marr not in subfamily</td>\n",
       "      <td>Other relative of householder</td>\n",
       "      <td>1700.09</td>\n",
       "      <td>Nonmover</td>\n",
       "      <td>Nonmover</td>\n",
       "      <td>Nonmover</td>\n",
       "      <td>No</td>\n",
       "      <td>0</td>\n",
       "      <td>United-States</td>\n",
       "      <td>United-States</td>\n",
       "      <td>United-States</td>\n",
       "      <td>Native- Born in the United States</td>\n",
       "      <td>0</td>\n",
       "      <td>Not in universe</td>\n",
       "      <td>2</td>\n",
       "      <td>0</td>\n",
       "      <td>95</td>\n",
       "      <td>- 50000.</td>\n",
       "    </tr>\n",
       "    <tr>\n",
       "      <th>1</th>\n",
       "      <td>58</td>\n",
       "      <td>Self-employed-not incorporated</td>\n",
       "      <td>4</td>\n",
       "      <td>34</td>\n",
       "      <td>Some college but no degree</td>\n",
       "      <td>0</td>\n",
       "      <td>Divorced</td>\n",
       "      <td>White</td>\n",
       "      <td>All other</td>\n",
       "      <td>Male</td>\n",
       "      <td>No</td>\n",
       "      <td>Employed</td>\n",
       "      <td>Children or Armed Forces</td>\n",
       "      <td>0</td>\n",
       "      <td>0</td>\n",
       "      <td>0</td>\n",
       "      <td>Head of household</td>\n",
       "      <td>South</td>\n",
       "      <td>Arkansas</td>\n",
       "      <td>Householder</td>\n",
       "      <td>Householder</td>\n",
       "      <td>1053.55</td>\n",
       "      <td>MSA to MSA</td>\n",
       "      <td>Same county</td>\n",
       "      <td>Same county</td>\n",
       "      <td>No</td>\n",
       "      <td>1</td>\n",
       "      <td>United-States</td>\n",
       "      <td>United-States</td>\n",
       "      <td>United-States</td>\n",
       "      <td>Native- Born in the United States</td>\n",
       "      <td>0</td>\n",
       "      <td>Not in universe</td>\n",
       "      <td>2</td>\n",
       "      <td>52</td>\n",
       "      <td>94</td>\n",
       "      <td>- 50000.</td>\n",
       "    </tr>\n",
       "    <tr>\n",
       "      <th>2</th>\n",
       "      <td>18</td>\n",
       "      <td>Unemployed</td>\n",
       "      <td>52</td>\n",
       "      <td>0</td>\n",
       "      <td>High School</td>\n",
       "      <td>0</td>\n",
       "      <td>Never married</td>\n",
       "      <td>Asian or Pacific Islander</td>\n",
       "      <td>All other</td>\n",
       "      <td>Female</td>\n",
       "      <td>No</td>\n",
       "      <td>Employed</td>\n",
       "      <td>Not in labor force</td>\n",
       "      <td>0</td>\n",
       "      <td>0</td>\n",
       "      <td>0</td>\n",
       "      <td>Nonfiler</td>\n",
       "      <td>No movement</td>\n",
       "      <td>Same state</td>\n",
       "      <td>Child 18+ never marr Not in a subfamily</td>\n",
       "      <td>Child 18 or older</td>\n",
       "      <td>991.95</td>\n",
       "      <td>Nonmover</td>\n",
       "      <td>Nonmover</td>\n",
       "      <td>Nonmover</td>\n",
       "      <td>No</td>\n",
       "      <td>0</td>\n",
       "      <td>Vietnam</td>\n",
       "      <td>Vietnam</td>\n",
       "      <td>Vietnam</td>\n",
       "      <td>Foreign born- Not a citizen of U S</td>\n",
       "      <td>0</td>\n",
       "      <td>Not in universe</td>\n",
       "      <td>2</td>\n",
       "      <td>0</td>\n",
       "      <td>95</td>\n",
       "      <td>- 50000.</td>\n",
       "    </tr>\n",
       "    <tr>\n",
       "      <th>3</th>\n",
       "      <td>9</td>\n",
       "      <td>Unemployed</td>\n",
       "      <td>52</td>\n",
       "      <td>0</td>\n",
       "      <td>Children</td>\n",
       "      <td>0</td>\n",
       "      <td>Never married</td>\n",
       "      <td>White</td>\n",
       "      <td>All other</td>\n",
       "      <td>Female</td>\n",
       "      <td>No</td>\n",
       "      <td>Employed</td>\n",
       "      <td>Children or Armed Forces</td>\n",
       "      <td>0</td>\n",
       "      <td>0</td>\n",
       "      <td>0</td>\n",
       "      <td>Nonfiler</td>\n",
       "      <td>No movement</td>\n",
       "      <td>Same state</td>\n",
       "      <td>Child &lt;18 never marr not in subfamily</td>\n",
       "      <td>Child under 18 never married</td>\n",
       "      <td>1758.14</td>\n",
       "      <td>Nonmover</td>\n",
       "      <td>Nonmover</td>\n",
       "      <td>Nonmover</td>\n",
       "      <td>Yes</td>\n",
       "      <td>0</td>\n",
       "      <td>United-States</td>\n",
       "      <td>United-States</td>\n",
       "      <td>United-States</td>\n",
       "      <td>Native- Born in the United States</td>\n",
       "      <td>0</td>\n",
       "      <td>Not in universe</td>\n",
       "      <td>0</td>\n",
       "      <td>0</td>\n",
       "      <td>94</td>\n",
       "      <td>- 50000.</td>\n",
       "    </tr>\n",
       "    <tr>\n",
       "      <th>4</th>\n",
       "      <td>10</td>\n",
       "      <td>Unemployed</td>\n",
       "      <td>52</td>\n",
       "      <td>0</td>\n",
       "      <td>Children</td>\n",
       "      <td>0</td>\n",
       "      <td>Never married</td>\n",
       "      <td>White</td>\n",
       "      <td>All other</td>\n",
       "      <td>Female</td>\n",
       "      <td>No</td>\n",
       "      <td>Employed</td>\n",
       "      <td>Children or Armed Forces</td>\n",
       "      <td>0</td>\n",
       "      <td>0</td>\n",
       "      <td>0</td>\n",
       "      <td>Nonfiler</td>\n",
       "      <td>No movement</td>\n",
       "      <td>Same state</td>\n",
       "      <td>Child &lt;18 never marr not in subfamily</td>\n",
       "      <td>Child under 18 never married</td>\n",
       "      <td>1069.16</td>\n",
       "      <td>Nonmover</td>\n",
       "      <td>Nonmover</td>\n",
       "      <td>Nonmover</td>\n",
       "      <td>Yes</td>\n",
       "      <td>0</td>\n",
       "      <td>United-States</td>\n",
       "      <td>United-States</td>\n",
       "      <td>United-States</td>\n",
       "      <td>Native- Born in the United States</td>\n",
       "      <td>0</td>\n",
       "      <td>Not in universe</td>\n",
       "      <td>0</td>\n",
       "      <td>0</td>\n",
       "      <td>94</td>\n",
       "      <td>- 50000.</td>\n",
       "    </tr>\n",
       "    <tr>\n",
       "      <th>5</th>\n",
       "      <td>48</td>\n",
       "      <td>Private</td>\n",
       "      <td>40</td>\n",
       "      <td>10</td>\n",
       "      <td>Some college but no degree</td>\n",
       "      <td>1200</td>\n",
       "      <td>Married-civilian spouse present</td>\n",
       "      <td>Amer Indian Aleut or Eskimo</td>\n",
       "      <td>All other</td>\n",
       "      <td>Female</td>\n",
       "      <td>No</td>\n",
       "      <td>Employed</td>\n",
       "      <td>Full-time schedules</td>\n",
       "      <td>0</td>\n",
       "      <td>0</td>\n",
       "      <td>0</td>\n",
       "      <td>Joint both under 65</td>\n",
       "      <td>No movement</td>\n",
       "      <td>Same state</td>\n",
       "      <td>Spouse of householder</td>\n",
       "      <td>Spouse of householder</td>\n",
       "      <td>162.61</td>\n",
       "      <td>Nonmover</td>\n",
       "      <td>Nonmover</td>\n",
       "      <td>Nonmover</td>\n",
       "      <td>No</td>\n",
       "      <td>1</td>\n",
       "      <td>Philippines</td>\n",
       "      <td>United-States</td>\n",
       "      <td>United-States</td>\n",
       "      <td>Native- Born in the United States</td>\n",
       "      <td>2</td>\n",
       "      <td>Not in universe</td>\n",
       "      <td>2</td>\n",
       "      <td>52</td>\n",
       "      <td>95</td>\n",
       "      <td>- 50000.</td>\n",
       "    </tr>\n",
       "    <tr>\n",
       "      <th>6</th>\n",
       "      <td>42</td>\n",
       "      <td>Private</td>\n",
       "      <td>34</td>\n",
       "      <td>3</td>\n",
       "      <td>Bachelors degree(BA AB BS)</td>\n",
       "      <td>0</td>\n",
       "      <td>Married-civilian spouse present</td>\n",
       "      <td>White</td>\n",
       "      <td>All other</td>\n",
       "      <td>Male</td>\n",
       "      <td>No</td>\n",
       "      <td>Employed</td>\n",
       "      <td>Children or Armed Forces</td>\n",
       "      <td>5178</td>\n",
       "      <td>0</td>\n",
       "      <td>0</td>\n",
       "      <td>Joint both under 65</td>\n",
       "      <td>No movement</td>\n",
       "      <td>Same state</td>\n",
       "      <td>Householder</td>\n",
       "      <td>Householder</td>\n",
       "      <td>1535.86</td>\n",
       "      <td>Nonmover</td>\n",
       "      <td>Nonmover</td>\n",
       "      <td>Nonmover</td>\n",
       "      <td>Yes</td>\n",
       "      <td>6</td>\n",
       "      <td>United-States</td>\n",
       "      <td>United-States</td>\n",
       "      <td>United-States</td>\n",
       "      <td>Native- Born in the United States</td>\n",
       "      <td>0</td>\n",
       "      <td>Not in universe</td>\n",
       "      <td>2</td>\n",
       "      <td>52</td>\n",
       "      <td>94</td>\n",
       "      <td>- 50000.</td>\n",
       "    </tr>\n",
       "    <tr>\n",
       "      <th>7</th>\n",
       "      <td>28</td>\n",
       "      <td>Private</td>\n",
       "      <td>4</td>\n",
       "      <td>40</td>\n",
       "      <td>High school graduate</td>\n",
       "      <td>0</td>\n",
       "      <td>Never married</td>\n",
       "      <td>White</td>\n",
       "      <td>All other</td>\n",
       "      <td>Female</td>\n",
       "      <td>No</td>\n",
       "      <td>Job loser - on layoff</td>\n",
       "      <td>Unemployed full-time</td>\n",
       "      <td>0</td>\n",
       "      <td>0</td>\n",
       "      <td>0</td>\n",
       "      <td>Single</td>\n",
       "      <td>No movement</td>\n",
       "      <td>Same state</td>\n",
       "      <td>Secondary individual</td>\n",
       "      <td>Nonrelative of householder</td>\n",
       "      <td>898.83</td>\n",
       "      <td>Nonmover</td>\n",
       "      <td>Nonmover</td>\n",
       "      <td>Nonmover</td>\n",
       "      <td>No</td>\n",
       "      <td>4</td>\n",
       "      <td>United-States</td>\n",
       "      <td>United-States</td>\n",
       "      <td>United-States</td>\n",
       "      <td>Native- Born in the United States</td>\n",
       "      <td>0</td>\n",
       "      <td>Not in universe</td>\n",
       "      <td>2</td>\n",
       "      <td>30</td>\n",
       "      <td>95</td>\n",
       "      <td>- 50000.</td>\n",
       "    </tr>\n",
       "    <tr>\n",
       "      <th>8</th>\n",
       "      <td>47</td>\n",
       "      <td>Local government</td>\n",
       "      <td>43</td>\n",
       "      <td>26</td>\n",
       "      <td>Some college but no degree</td>\n",
       "      <td>876</td>\n",
       "      <td>Married-civilian spouse present</td>\n",
       "      <td>White</td>\n",
       "      <td>All other</td>\n",
       "      <td>Female</td>\n",
       "      <td>No</td>\n",
       "      <td>Employed</td>\n",
       "      <td>Full-time schedules</td>\n",
       "      <td>0</td>\n",
       "      <td>0</td>\n",
       "      <td>0</td>\n",
       "      <td>Joint both under 65</td>\n",
       "      <td>No movement</td>\n",
       "      <td>Same state</td>\n",
       "      <td>Spouse of householder</td>\n",
       "      <td>Spouse of householder</td>\n",
       "      <td>1661.53</td>\n",
       "      <td>Nonmover</td>\n",
       "      <td>Nonmover</td>\n",
       "      <td>Nonmover</td>\n",
       "      <td>No</td>\n",
       "      <td>5</td>\n",
       "      <td>United-States</td>\n",
       "      <td>United-States</td>\n",
       "      <td>United-States</td>\n",
       "      <td>Native- Born in the United States</td>\n",
       "      <td>0</td>\n",
       "      <td>Not in universe</td>\n",
       "      <td>2</td>\n",
       "      <td>52</td>\n",
       "      <td>95</td>\n",
       "      <td>- 50000.</td>\n",
       "    </tr>\n",
       "    <tr>\n",
       "      <th>9</th>\n",
       "      <td>34</td>\n",
       "      <td>Private</td>\n",
       "      <td>4</td>\n",
       "      <td>37</td>\n",
       "      <td>Some college but no degree</td>\n",
       "      <td>0</td>\n",
       "      <td>Married-civilian spouse present</td>\n",
       "      <td>White</td>\n",
       "      <td>All other</td>\n",
       "      <td>Male</td>\n",
       "      <td>No</td>\n",
       "      <td>Employed</td>\n",
       "      <td>Children or Armed Forces</td>\n",
       "      <td>0</td>\n",
       "      <td>0</td>\n",
       "      <td>0</td>\n",
       "      <td>Joint both under 65</td>\n",
       "      <td>No movement</td>\n",
       "      <td>Same state</td>\n",
       "      <td>Householder</td>\n",
       "      <td>Householder</td>\n",
       "      <td>1146.79</td>\n",
       "      <td>Nonmover</td>\n",
       "      <td>Nonmover</td>\n",
       "      <td>Nonmover</td>\n",
       "      <td>Yes</td>\n",
       "      <td>6</td>\n",
       "      <td>United-States</td>\n",
       "      <td>United-States</td>\n",
       "      <td>United-States</td>\n",
       "      <td>Native- Born in the United States</td>\n",
       "      <td>0</td>\n",
       "      <td>Not in universe</td>\n",
       "      <td>2</td>\n",
       "      <td>52</td>\n",
       "      <td>94</td>\n",
       "      <td>- 50000.</td>\n",
       "    </tr>\n",
       "  </tbody>\n",
       "</table>\n",
       "</div>"
      ],
      "text/plain": [
       "   Age                       WorkerClas  IndustryCode  OccupationCode  \\\n",
       "0   73                       Unemployed            54               0   \n",
       "1   58   Self-employed-not incorporated             4              34   \n",
       "2   18                       Unemployed            52               0   \n",
       "3    9                       Unemployed            52               0   \n",
       "4   10                       Unemployed            52               0   \n",
       "5   48                          Private            40              10   \n",
       "6   42                          Private            34               3   \n",
       "7   28                          Private             4              40   \n",
       "8   47                 Local government            43              26   \n",
       "9   34                          Private             4              37   \n",
       "\n",
       "                     Education  Wage                       MaritalStat  \\\n",
       "0         High school graduate     0                           Widowed   \n",
       "1   Some college but no degree     0                          Divorced   \n",
       "2                  High School     0                     Never married   \n",
       "3                     Children     0                     Never married   \n",
       "4                     Children     0                     Never married   \n",
       "5   Some college but no degree  1200   Married-civilian spouse present   \n",
       "6   Bachelors degree(BA AB BS)     0   Married-civilian spouse present   \n",
       "7         High school graduate     0                     Never married   \n",
       "8   Some college but no degree   876   Married-civilian spouse present   \n",
       "9   Some college but no degree     0   Married-civilian spouse present   \n",
       "\n",
       "                           Race    HispOrig      Sex LabourUnion  \\\n",
       "0                         White   All other   Female          No   \n",
       "1                         White   All other     Male          No   \n",
       "2     Asian or Pacific Islander   All other   Female          No   \n",
       "3                         White   All other   Female          No   \n",
       "4                         White   All other   Female          No   \n",
       "5   Amer Indian Aleut or Eskimo   All other   Female          No   \n",
       "6                         White   All other     Male          No   \n",
       "7                         White   All other   Female          No   \n",
       "8                         White   All other   Female          No   \n",
       "9                         White   All other     Male          No   \n",
       "\n",
       "                UnempReas               FullPartStat  CapGains  CapLosses  \\\n",
       "0                Employed         Not in labor force         0          0   \n",
       "1                Employed   Children or Armed Forces         0          0   \n",
       "2                Employed         Not in labor force         0          0   \n",
       "3                Employed   Children or Armed Forces         0          0   \n",
       "4                Employed   Children or Armed Forces         0          0   \n",
       "5                Employed        Full-time schedules         0          0   \n",
       "6                Employed   Children or Armed Forces      5178          0   \n",
       "7   Job loser - on layoff       Unemployed full-time         0          0   \n",
       "8                Employed        Full-time schedules         0          0   \n",
       "9                Employed   Children or Armed Forces         0          0   \n",
       "\n",
       "   StockDiv          TaxFilerStat       PrevReg    PrevState  \\\n",
       "0         0              Nonfiler   No movement   Same state   \n",
       "1         0     Head of household         South     Arkansas   \n",
       "2         0              Nonfiler   No movement   Same state   \n",
       "3         0              Nonfiler   No movement   Same state   \n",
       "4         0              Nonfiler   No movement   Same state   \n",
       "5         0   Joint both under 65   No movement   Same state   \n",
       "6         0   Joint both under 65   No movement   Same state   \n",
       "7         0                Single   No movement   Same state   \n",
       "8         0   Joint both under 65   No movement   Same state   \n",
       "9         0   Joint both under 65   No movement   Same state   \n",
       "\n",
       "                            HouseholdFamStat            HouseholdSummaryStat  \\\n",
       "0   Other Rel 18+ ever marr not in subfamily   Other relative of householder   \n",
       "1                                Householder                     Householder   \n",
       "2    Child 18+ never marr Not in a subfamily               Child 18 or older   \n",
       "3      Child <18 never marr not in subfamily    Child under 18 never married   \n",
       "4      Child <18 never marr not in subfamily    Child under 18 never married   \n",
       "5                      Spouse of householder           Spouse of householder   \n",
       "6                                Householder                     Householder   \n",
       "7                       Secondary individual      Nonrelative of householder   \n",
       "8                      Spouse of householder           Spouse of householder   \n",
       "9                                Householder                     Householder   \n",
       "\n",
       "   InstanceWeight   MigCodeMSA MigCodeRegDiff MigCodeRegSame HouseLive1Yr  \\\n",
       "0         1700.09     Nonmover       Nonmover       Nonmover           No   \n",
       "1         1053.55   MSA to MSA    Same county    Same county           No   \n",
       "2          991.95     Nonmover       Nonmover       Nonmover           No   \n",
       "3         1758.14     Nonmover       Nonmover       Nonmover          Yes   \n",
       "4         1069.16     Nonmover       Nonmover       Nonmover          Yes   \n",
       "5          162.61     Nonmover       Nonmover       Nonmover           No   \n",
       "6         1535.86     Nonmover       Nonmover       Nonmover          Yes   \n",
       "7          898.83     Nonmover       Nonmover       Nonmover           No   \n",
       "8         1661.53     Nonmover       Nonmover       Nonmover           No   \n",
       "9         1146.79     Nonmover       Nonmover       Nonmover          Yes   \n",
       "\n",
       "   NumWorkersEmployer FatherBirthCountry MotherBirthCountry SelfBirthCountry  \\\n",
       "0                   0      United-States      United-States    United-States   \n",
       "1                   1      United-States      United-States    United-States   \n",
       "2                   0            Vietnam            Vietnam          Vietnam   \n",
       "3                   0      United-States      United-States    United-States   \n",
       "4                   0      United-States      United-States    United-States   \n",
       "5                   1        Philippines      United-States    United-States   \n",
       "6                   6      United-States      United-States    United-States   \n",
       "7                   4      United-States      United-States    United-States   \n",
       "8                   5      United-States      United-States    United-States   \n",
       "9                   6      United-States      United-States    United-States   \n",
       "\n",
       "                                    Cit  BusinessOwner       VeteranAdmQ  \\\n",
       "0     Native- Born in the United States              0   Not in universe   \n",
       "1     Native- Born in the United States              0   Not in universe   \n",
       "2   Foreign born- Not a citizen of U S               0   Not in universe   \n",
       "3     Native- Born in the United States              0   Not in universe   \n",
       "4     Native- Born in the United States              0   Not in universe   \n",
       "5     Native- Born in the United States              2   Not in universe   \n",
       "6     Native- Born in the United States              0   Not in universe   \n",
       "7     Native- Born in the United States              0   Not in universe   \n",
       "8     Native- Born in the United States              0   Not in universe   \n",
       "9     Native- Born in the United States              0   Not in universe   \n",
       "\n",
       "   VeteranBen  WeeksWorked  Yr     Target  \n",
       "0           2            0  95   - 50000.  \n",
       "1           2           52  94   - 50000.  \n",
       "2           2            0  95   - 50000.  \n",
       "3           0            0  94   - 50000.  \n",
       "4           0            0  94   - 50000.  \n",
       "5           2           52  95   - 50000.  \n",
       "6           2           52  94   - 50000.  \n",
       "7           2           30  95   - 50000.  \n",
       "8           2           52  95   - 50000.  \n",
       "9           2           52  94   - 50000.  "
      ]
     },
     "execution_count": 757,
     "metadata": {},
     "output_type": "execute_result"
    }
   ],
   "source": [
    "df[0:10]"
   ]
  },
  {
   "cell_type": "code",
   "execution_count": 758,
   "metadata": {},
   "outputs": [],
   "source": [
    "df.loc[df['FatherBirthCountry']==' ?', 'FatherBirthCountry'] = df['FatherBirthCountry'].value_counts().keys()[0]\n",
    "df.loc[df['MotherBirthCountry']==' ?', 'MotherBirthCountry'] = df['MotherBirthCountry'].value_counts().keys()[0]\n",
    "df.loc[df['SelfBirthCountry']==' ?', 'SelfBirthCountry'] = df['SelfBirthCountry'].value_counts().keys()[0]"
   ]
  },
  {
   "cell_type": "code",
   "execution_count": 759,
   "metadata": {},
   "outputs": [
    {
     "data": {
      "text/plain": [
       " Not in universe    296274\n",
       " No                   2421\n",
       " Yes                   590\n",
       "Name: VeteranAdmQ, dtype: int64"
      ]
     },
     "execution_count": 759,
     "metadata": {},
     "output_type": "execute_result"
    }
   ],
   "source": [
    "df['VeteranAdmQ'].value_counts()"
   ]
  },
  {
   "cell_type": "code",
   "execution_count": 760,
   "metadata": {},
   "outputs": [
    {
     "data": {
      "image/png": "[encoded data removed]",
      "text/plain": [
       "<Figure size 691.2x216 with 2 Axes>"
      ]
     },
     "metadata": {
      "needs_background": "light"
     },
     "output_type": "display_data"
    }
   ],
   "source": [
    "grid = sns.FacetGrid(df, col='Target', aspect=1.6)\n",
    "grid.map(weighted_hist, 'VeteranAdmQ', 'InstanceWeight', bins=[0,1,2])\n",
    "plt.show()"
   ]
  },
  {
   "cell_type": "code",
   "execution_count": 761,
   "metadata": {},
   "outputs": [],
   "source": [
    "# assuming that not in universe here means that they are not veterans\n",
    "df.loc[df['VeteranAdmQ']==' Not in universe', 'VeteranAdmQ'] = ' Not veteran'"
   ]
  },
  {
   "cell_type": "code",
   "execution_count": 762,
   "metadata": {},
   "outputs": [
    {
     "data": {
      "image/png": "[encoded data removed]",
      "text/plain": [
       "<Figure size 691.2x216 with 2 Axes>"
      ]
     },
     "metadata": {
      "needs_background": "light"
     },
     "output_type": "display_data"
    }
   ],
   "source": [
    "grid = sns.FacetGrid(df, col='Target', aspect=1.6)\n",
    "grid.map(weighted_hist, 'VeteranBen', 'InstanceWeight', bins=[1,2,3])\n",
    "plt.show()"
   ]
  },
  {
   "cell_type": "code",
   "execution_count": 763,
   "metadata": {},
   "outputs": [],
   "source": [
    "# checking to make sure got rid of all\n",
    "for col in df.columns:\n",
    "    if (' Not in universe' in df[col].value_counts().keys()) or (' ?' in df[col].value_counts().keys()):\n",
    "        print(col)"
   ]
  },
  {
   "cell_type": "markdown",
   "metadata": {},
   "source": [
    "Now move onto feature engineering etc. First label encode columns and then check correlation plot.\n",
    "\n",
    "Nominal vs Ordinal"
   ]
  },
  {
   "cell_type": "code",
   "execution_count": 764,
   "metadata": {},
   "outputs": [],
   "source": [
    "from sklearn.preprocessing import LabelEncoder\n",
    "\n",
    "def convertFeatures(data):\n",
    "    for col in data.columns.values:\n",
    "        if data[col].dtype.name == 'object':\n",
    "            le = LabelEncoder()\n",
    "            data[col] = le.fit_transform(data[col])"
   ]
  },
  {
   "cell_type": "code",
   "execution_count": 765,
   "metadata": {},
   "outputs": [],
   "source": [
    "convertFeatures(df)"
   ]
  },
  {
   "cell_type": "code",
   "execution_count": 766,
   "metadata": {},
   "outputs": [],
   "source": [
    "df.drop(['InstanceWeight'], axis=1, inplace=True)"
   ]
  },
  {
   "cell_type": "code",
   "execution_count": 768,
   "metadata": {},
   "outputs": [
    {
     "name": "stdout",
     "output_type": "stream",
     "text": [
      "299285\n",
      "199523\n",
      "99762\n"
     ]
    }
   ],
   "source": [
    "train = df[0:train_len]\n",
    "test = df[train_len:(train_len + test_len)]"
   ]
  },
  {
   "cell_type": "code",
   "execution_count": 769,
   "metadata": {},
   "outputs": [
    {
     "name": "stderr",
     "output_type": "stream",
     "text": [
      "\n",
      "A value is trying to be set on a copy of a slice from a DataFrame\n",
      "\n",
      "See the caveats in the documentation: http://pandas.pydata.org/pandas-docs/stable/user_guide/indexing.html#returning-a-view-versus-a-copy\n"
     ]
    }
   ],
   "source": [
    "train_y = train['Target']\n",
    "train.drop(['Target'], axis=1, inplace=True)\n",
    "test_y = test['Target']\n",
    "test.drop(['Target'], axis=1, inplace=True)"
   ]
  },
  {
   "cell_type": "code",
   "execution_count": 770,
   "metadata": {},
   "outputs": [
    {
     "data": {
      "text/plain": [
       "(199523,)"
      ]
     },
     "execution_count": 770,
     "metadata": {},
     "output_type": "execute_result"
    }
   ],
   "source": []
  },
  {
   "cell_type": "code",
   "execution_count": null,
   "metadata": {},
   "outputs": [],
   "source": []
  }
 ],
 "metadata": {
  "kernelspec": {
   "display_name": "Python 3",
   "language": "python",
   "name": "python3"
  },
  "language_info": {
   "codemirror_mode": {
    "name": "ipython",
    "version": 3
   },
   "file_extension": ".py",
   "mimetype": "text/x-python",
   "name": "python",
   "nbconvert_exporter": "python",
   "pygments_lexer": "ipython3",
   "version": "3.7.3"
  }
 },
 "nbformat": 4,
 "nbformat_minor": 4
}
